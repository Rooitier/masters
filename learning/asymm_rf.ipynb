{
 "cells": [
  {
   "cell_type": "code",
   "execution_count": 1,
   "metadata": {},
   "outputs": [
    {
     "name": "stderr",
     "output_type": "stream",
     "text": [
      "Failed to import duecredit due to No module named 'duecredit'\n"
     ]
    }
   ],
   "source": [
    "import collections\n",
    "import pandas as pd\n",
    "import numpy as np\n",
    "import seaborn as sns\n",
    "import matplotlib.font_manager\n",
    "from scipy.stats import ks_2samp\n",
    "import matplotlib.pyplot as plt\n",
    "from sklearn.utils import shuffle\n",
    "from sklearn.model_selection import train_test_split\n",
    "from sklearn.linear_model import LinearRegression\n",
    "from sklearn.ensemble import RandomForestRegressor\n",
    "from sklearn.metrics import mean_squared_error\n",
    "import forestci as fci"
   ]
  },
  {
   "cell_type": "code",
   "execution_count": 2,
   "metadata": {},
   "outputs": [],
   "source": [
    "signal = pd.read_csv(\"resonances0.txt\", delim_whitespace=True)\n",
    "test_data = pd.read_csv(\"test.txt\", delim_whitespace=True)\n",
    "test_data = test_data[['Z','A']]\n",
    "arr_test_data = test_data.values.reshape(-1,2)\n",
    "test_data_inc = test_data[['A']]+1\n",
    "arr_test_data_inc = test_data_inc.values.reshape(-1,1)"
   ]
  },
  {
   "cell_type": "code",
   "execution_count": 3,
   "metadata": {},
   "outputs": [
    {
     "name": "stdout",
     "output_type": "stream",
     "text": [
      "     Z   A\n",
      "1   23  50\n",
      "2   25  52\n",
      "3   27  56\n",
      "4   27  58\n",
      "5   29  60\n",
      "7   29  62\n",
      "8   29  64\n",
      "11  31  64\n",
      "12  31  66\n",
      "13  31  68\n",
      "14  33  70\n",
      "15  33  72\n",
      "16  33  74\n",
      "17  39  84\n",
      "19  39  88\n"
     ]
    }
   ],
   "source": [
    "# Even-Odd residual nuclei\n",
    "\n",
    "signaleven = signal[signal['Z'] % 2 == 0]\n",
    "e1filter = signaleven[signaleven['A'] % 2 == 0] # Selecting only even data\n",
    "\n",
    "# Odd-Even residual nuclei\n",
    "\n",
    "signalodd = signal[signal['Z'] % 2 != 0]\n",
    "e2filter = signalodd[signalodd['A'] % 2 == 0]\n",
    "\n",
    "efilter = pd.concat([e1filter,e2filter])\n",
    "efilter = efilter.sort_values(by=['Z'])\n",
    "\n",
    "x = efilter[['Z','A']]\n",
    "y = efilter[['D0','dD']] # Reshaping data\n",
    "arr_x = x.values.reshape(-1,2)\n",
    "arr_y = y.values.reshape(-1,2)\n",
    "arr_y_pred, arr_y_err = np.hsplit(arr_y,2)\n",
    "arr_y_pred = arr_y_pred.ravel()\n",
    "\n",
    "X_train, X_test, y_train, y_test = train_test_split(arr_x, arr_y, test_size=0.2, random_state=11) # Splitting data into 80% training and 20% testing\n",
    "\n",
    "\n",
    "X_train_inc = pd.DataFrame(X_train, columns=['Z','A'])\n",
    "X_train_inc['A'] = X_train_inc['A'] + 1\n",
    "arr_X_train_inc = X_train_inc.values.reshape(-1,2)\n",
    "\n",
    "X_test_inc = pd.DataFrame(X_test, columns=['Z','A'])\n",
    "X_test_inc['A'] = X_test_inc['A'] + 1\n",
    "arr_X_test_inc = X_test_inc.values.reshape(-1,2)\n",
    "\n",
    "y_train, y_train_dd = np.hsplit(y_train,2)\n",
    "y_test, y_test_dd = np.hsplit(y_test,2)\n",
    "\n",
    "y_train = y_train.ravel()\n",
    "y_test = y_test.ravel()\n",
    "y_test_dd = y_test_dd.ravel()\n",
    "\n",
    "rfe = RandomForestRegressor(n_estimators=500,max_depth=50,random_state=10,max_features=2) # Building RF\n",
    "rfe.fit(X_train,y_train)\n",
    "score=rfe.score(X_train,y_train)\n",
    "\n",
    "y_pred = rfe.predict(X_test)\n",
    "\n",
    "rf_err = abs(fci.random_forest_error(rfe,X_train,X_test,calibrate=False)) # RF Errors\n",
    "\n",
    "#Even-Odd Residual Nucleus experimental data\n",
    "\n",
    "ee_data = test_data[test_data['Z'] % 2 == 0]\n",
    "e1_data = ee_data[ee_data['A'] % 2 == 0] \n",
    "\n",
    "#Odd-Even Residual Nucleus experimental data\n",
    "\n",
    "oo_data = test_data[test_data['Z'] % 2 != 0] \n",
    "e2_data = oo_data[oo_data['A'] % 2 == 0]\n",
    "\n",
    "testfilter = pd.concat([e1_data,e2_data])\n",
    "print(testfilter)\n",
    "# testfilter = testfilter.sort_values(by=['Z'])\n",
    "\n",
    "e_data = testfilter.values.reshape(-1,2)\n",
    "\n",
    "test_data_inc = testfilter[['A']]+1\n",
    "arr_test_data_inc = test_data_inc.values.reshape(-1,1)\n",
    "arr_test_data_inc = arr_test_data_inc.ravel()\n",
    "\n",
    "\n",
    "ye_pred = rfe.predict(e_data) # Prediciton of unknown data set\n",
    "rfe_err = abs(fci.random_forest_error(rfe,X_train,e_data,calibrate=False)) # Errors of unkown data set\n",
    "mse = mean_squared_error(y_test, y_pred)"
   ]
  },
  {
   "cell_type": "code",
   "execution_count": 4,
   "metadata": {},
   "outputs": [
    {
     "data": {
      "image/png": "[encoded data removed]",
      "text/plain": [
       "<Figure size 432x288 with 1 Axes>"
      ]
     },
     "metadata": {
      "needs_background": "light"
     },
     "output_type": "display_data"
    }
   ],
   "source": [
    "# Plotting\n",
    "\n",
    "plt.errorbar(efilter['Z'],efilter['D0'],yerr=efilter['dD'],fmt='o',markersize=3, color='red',label='NNDC Data')\n",
    "plt.errorbar(X_test[:,0],y_pred,yerr=np.sqrt(rf_err),fmt='o',markersize=3, color='blue',label='Test Prediction')\n",
    "plt.errorbar(e_data[:,0],ye_pred,yerr=np.sqrt(rfe_err),fmt='o',markersize=3, color='black',label='ML Prediction')\n",
    "\n",
    "#plt.fill_between(X_test[:,0], y_pred - np.sqrt(rf_err), y_pred + np.sqrt(rf_err), alpha=0.5, edgecolor='#1B2ACC', facecolor='#089FFF',label='ML Error')\n",
    "#plt.scatter(X_test[:,0],y_pred,s=3,label='ML Prediction')\n",
    "\n",
    "#plt.xlim(21,41)\n",
    "#plt.ylim(-5,80)\n",
    "\n",
    "plt.legend()\n",
    "plt.xlabel(\"Z\")\n",
    "plt.ylabel(\"D0 (keV)\")\n",
    "plt.show()"
   ]
  },
  {
   "cell_type": "code",
   "execution_count": 5,
   "metadata": {},
   "outputs": [],
   "source": [
    "# total_errs = [np.sqrt(rf_err[i] + float(y_test_dd[i])**2) for i in np.arange(len(X_test))]\n",
    "ratio = [round(y_pred[i] / y_test[i],4) for i in np.arange(len(y_pred))]\n",
    "ratio_err = [round(ratio[i]*(np.sqrt(rf_err[i] / y_pred[i]**2 + (float(y_test_dd[i]) / y_test[i])**2)),4) for i in np.arange(len(y_pred))]"
   ]
  },
  {
   "cell_type": "code",
   "execution_count": 6,
   "metadata": {},
   "outputs": [],
   "source": [
    "with open(\"data_asymm.txt\",\"w\") as f:\n",
    "    f.write('# Basic Learning Model - Showing Test Case of Asymmetric Nuclei - Score: {0} - MSE: {1} \\n'.format(round(score,4),round(mse,4)))\n",
    "    f.write('#Z   A   D0   dD   mlD0   mlDd   mlD0/D0   d(mlD0/D0) \\n')\n",
    "    for i in range(0, len(y_pred)):\n",
    "        f.write(\"{0}   {1}   {2}   {3}   {4}   {5}    {6}    {7}\\n\".format(arr_X_test_inc[i,0],arr_X_test_inc[i,1],y_test[i],y_test_dd[i],round(y_pred[i],4),round(np.sqrt(rf_err[i]),4),ratio[i],ratio_err[i]))"
   ]
  },
  {
   "cell_type": "code",
   "execution_count": 7,
   "metadata": {},
   "outputs": [],
   "source": [
    "rfe.fit(arr_x,arr_y_pred)\n",
    "test_score = rfe.score(arr_x,arr_y_pred)\n",
    "ye_pred = rfe.predict(e_data) # Prediciton of unknown data set\n",
    "rfe_err = abs(fci.random_forest_error(rfe,arr_x,e_data,calibrate=False)) # Errors of unkown data set"
   ]
  },
  {
   "cell_type": "code",
   "execution_count": 8,
   "metadata": {},
   "outputs": [],
   "source": [
    "with open(\"data_asymm_test.txt\",\"w\") as f:\n",
    "    f.write('# Basic Learning Model - Calculating unknown symmetric test case - Score:{0} \\n'.format(round(test_score,4)))\n",
    "    f.write('#Z   A   mlD0   mlDd \\n')\n",
    "    for i in range(0, len(ye_pred)):\n",
    "        f.write(\"{0}   {1}   {2}   {3}\\n\".format(e_data[i,0],arr_test_data_inc[i],round(ye_pred[i],4),round(np.sqrt(rfe_err[i]),4)))"
   ]
  },
  {
   "cell_type": "code",
   "execution_count": null,
   "metadata": {},
   "outputs": [],
   "source": []
  }
 ],
 "metadata": {
  "interpreter": {
   "hash": "2ac76aed366666d06b2dbc895d6cbcaff40415eb429273b629a6c397735c7c04"
  },
  "kernelspec": {
   "display_name": "Python 3 (ipykernel)",
   "language": "python",
   "name": "python3"
  },
  "language_info": {
   "codemirror_mode": {
    "name": "ipython",
    "version": 3
   },
   "file_extension": ".py",
   "mimetype": "text/x-python",
   "name": "python",
   "nbconvert_exporter": "python",
   "pygments_lexer": "ipython3",
   "version": "3.8.8"
  }
 },
 "nbformat": 4,
 "nbformat_minor": 2
}
