{
 "cells": [
  {
   "cell_type": "code",
   "execution_count": 1,
   "metadata": {},
   "outputs": [
    {
     "name": "stderr",
     "output_type": "stream",
     "text": [
      "Failed to import duecredit due to No module named 'duecredit'\n"
     ]
    }
   ],
   "source": [
    "import collections\n",
    "import pandas as pd\n",
    "import numpy as np\n",
    "import seaborn as sns\n",
    "import matplotlib.font_manager\n",
    "from scipy.stats import ks_2samp\n",
    "import matplotlib.pyplot as plt\n",
    "from sklearn.utils import shuffle\n",
    "from sklearn.model_selection import train_test_split\n",
    "from sklearn.linear_model import LinearRegression\n",
    "from sklearn.ensemble import RandomForestRegressor\n",
    "import forestci as fci"
   ]
  },
  {
   "cell_type": "code",
   "execution_count": 2,
   "metadata": {},
   "outputs": [
    {
     "data": {
      "text/plain": [
       "(283, 12)"
      ]
     },
     "execution_count": 2,
     "metadata": {},
     "output_type": "execute_result"
    }
   ],
   "source": [
    "signal = pd.read_csv(\"resonances0.txt\", delim_whitespace=True)\n",
    "test_data = pd.read_csv(\"test.txt\", delim_whitespace=True)\n",
    "val_data = pd.read_csv(\"comp.txt\", delim_whitespace=True)\n",
    "test_data = test_data[['Z','A']]\n",
    "signal.shape"
   ]
  },
  {
   "cell_type": "code",
   "execution_count": 3,
   "metadata": {},
   "outputs": [
    {
     "name": "stdout",
     "output_type": "stream",
     "text": [
      "0.8834516176075087\n",
      "[[23 49]\n",
      " [25 51]\n",
      " [27 55]\n",
      " [29 57]\n",
      " [29 59]\n",
      " [29 61]\n",
      " [29 63]\n",
      " [31 63]\n",
      " [31 65]\n",
      " [31 67]\n",
      " [33 69]\n",
      " [33 71]\n",
      " [33 73]\n",
      " [39 83]\n",
      " [39 87]\n",
      " [23 49]\n",
      " [25 51]\n",
      " [27 55]\n",
      " [29 57]\n",
      " [29 59]\n",
      " [29 60]\n",
      " [29 61]\n",
      " [29 63]\n",
      " [31 63]\n",
      " [31 65]\n",
      " [31 67]\n",
      " [33 69]\n",
      " [33 71]\n",
      " [33 73]\n",
      " [39 83]\n",
      " [39 87]]\n"
     ]
    }
   ],
   "source": [
    "# Odd-Odd / Odd-Even / Even-Odd\n",
    "o2filter = signal[signal['Z'] % 2 != 0] # Selecting Odd-X data\n",
    "ofilter = signal[signal['A'] % 2 != 0] # Selecting X-Odd data\n",
    "ofilter = ofilter.append(o2filter)\n",
    "\n",
    "x = ofilter[['Z','A']]\n",
    "y = ofilter[['D0']] # Reshaping data\n",
    "arr_x = x.values.reshape(-1,2)\n",
    "arr_y = y.values.ravel()\n",
    "\n",
    "X_train, X_test, y_train, y_test = train_test_split(arr_x, arr_y, test_size=0.2, random_state=11) # Splitting data into 80% training and 20% testing\n",
    "\n",
    "rfo = RandomForestRegressor(n_estimators=500,max_depth=500,random_state=10,max_features=2) # Building RF\n",
    "rfo.fit(X_train,y_train)\n",
    "print(rfo.score(X_train,y_train))\n",
    "\n",
    "y_pred = rfo.predict(X_test)\n",
    "\n",
    "rf_err = abs(fci.random_forest_error(rfo,X_train,X_test,calibrate=False)) # RF Errors\n",
    "\n",
    "\n",
    "o2_data = test_data[test_data['Z'] % 2 != 0] # Unknown Data from Odd-X\n",
    "o_data = test_data[test_data['A'] % 2 != 0] # Unknown Data from X-Odd\n",
    "o_data = o_data.append(o2_data) # Joining the two lists\n",
    "o_data = o_data.values.reshape(-1,2)\n",
    "yo_pred = rfo.predict(o_data) # Uknown data predicitons\n",
    "rfo_err = abs(fci.random_forest_error(rfo,ofilter,o_data,calibrate=False)) # Unknown data errors\n",
    "\n",
    "print(o_data)"
   ]
  },
  {
   "cell_type": "code",
   "execution_count": 4,
   "metadata": {},
   "outputs": [],
   "source": [
    "o2_data = test_data[test_data['Z'] % 2 != 0]\n",
    "o_data = test_data[test_data['A'] % 2 != 0]\n",
    "o_data = o_data.append(o2_data)\n",
    "o_data = o_data.values.reshape(-1,2)"
   ]
  },
  {
   "cell_type": "code",
   "execution_count": 5,
   "metadata": {},
   "outputs": [
    {
     "data": {
      "image/png": "[encoded data removed]",
      "text/plain": [
       "<Figure size 432x288 with 1 Axes>"
      ]
     },
     "metadata": {
      "needs_background": "light"
     },
     "output_type": "display_data"
    }
   ],
   "source": [
    "# Plotting\n",
    "\n",
    "plt.errorbar(ofilter['Z'],ofilter['D0'],yerr=ofilter['dD'],fmt='o',markersize=3, color='red',label='NNDC Data')\n",
    "#plt.errorbar(X_test[:,0],y_pred,yerr=np.sqrt(rf_err),fmt='o',markersize=3, color='blue',label='Test Prediction')\n",
    "plt.errorbar(o_data[:,0],yo_pred,yerr=np.sqrt(rfo_err),fmt='o',markersize=3, color='black',label='ML Prediction')\n",
    "\n",
    "#plt.fill_between(X_test[:,0], y_pred - np.sqrt(rf_err), y_pred + np.sqrt(rf_err), alpha=0.5, edgecolor='#1B2ACC', facecolor='#089FFF',label='ML Error')\n",
    "#plt.scatter(X_test[:,0],y_pred,s=3,label='ML Prediction')\n",
    "\n",
    "#plt.xlim(21,41)\n",
    "#plt.ylim(-5,80)\n",
    "\n",
    "plt.legend()\n",
    "plt.xlabel(\"Z\")\n",
    "plt.ylabel(\"D0 (keV)\")\n",
    "plt.show()"
   ]
  },
  {
   "cell_type": "code",
   "execution_count": 6,
   "metadata": {},
   "outputs": [],
   "source": [
    "with open(\"data_odd.txt\",\"w\") as f:\n",
    "    # f.write(' Z=  22 A=  46\\n')\n",
    "    # f.write('  U[MeV]  fE1[mb/MeV]\\n')\n",
    "    for i in range(0, len(y_pred)):\n",
    "        f.write(\"{0}   {1}   {2}   {3}\\n\".format(X_test[i,0],X_test[i,1],round(y_pred[i],4),round(np.sqrt(rf_err[i]),4)))"
   ]
  },
  {
   "cell_type": "code",
   "execution_count": 7,
   "metadata": {},
   "outputs": [],
   "source": [
    "with open(\"data_odd_test.txt\",\"w\") as f:\n",
    "    # f.write(' Z=  22 A=  46\\n')\n",
    "    # f.write('  U[MeV]  fE1[mb/MeV]\\n')\n",
    "    for i in range(0, len(yo_pred)):\n",
    "        f.write(\"{0}   {1}   {2}   {3}\\n\".format(o_data[i,0],o_data[i,1],round(yo_pred[i],4),round(np.sqrt(rfo_err[i]),4)))"
   ]
  }
 ],
 "metadata": {
  "interpreter": {
   "hash": "2ac76aed366666d06b2dbc895d6cbcaff40415eb429273b629a6c397735c7c04"
  },
  "kernelspec": {
   "display_name": "Python 3 (ipykernel)",
   "language": "python",
   "name": "python3"
  },
  "language_info": {
   "codemirror_mode": {
    "name": "ipython",
    "version": 3
   },
   "file_extension": ".py",
   "mimetype": "text/x-python",
   "name": "python",
   "nbconvert_exporter": "python",
   "pygments_lexer": "ipython3",
   "version": "3.8.8"
  }
 },
 "nbformat": 4,
 "nbformat_minor": 2
}
