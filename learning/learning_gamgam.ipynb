{
 "cells": [
  {
   "cell_type": "code",
   "execution_count": 1,
   "id": "72c58061",
   "metadata": {},
   "outputs": [
    {
     "name": "stderr",
     "output_type": "stream",
     "text": [
      "Failed to import duecredit due to No module named 'duecredit'\n"
     ]
    }
   ],
   "source": [
    "import collections\n",
    "import warnings\n",
    "from pandas.core.common import SettingWithCopyWarning\n",
    "import pandas as pd\n",
    "import numpy as np\n",
    "import seaborn as sns\n",
    "import matplotlib.font_manager\n",
    "from scipy.stats import ks_2samp\n",
    "import matplotlib.pyplot as plt\n",
    "from sklearn.utils import shuffle\n",
    "from sklearn.model_selection import train_test_split\n",
    "from sklearn.linear_model import LinearRegression\n",
    "from sklearn.ensemble import RandomForestRegressor\n",
    "from sklearn.metrics import mean_squared_error\n",
    "import forestci as fci\n",
    "warnings.simplefilter(action=\"ignore\", category=SettingWithCopyWarning)"
   ]
  },
  {
   "cell_type": "code",
   "execution_count": 10,
   "id": "a90c23f5",
   "metadata": {},
   "outputs": [],
   "source": [
    "signal = pd.read_csv(\"resonances0.txt\", delim_whitespace=True)\n",
    "val_data = pd.read_csv(\"comp.txt\", delim_whitespace=True)\n",
    "signal = signal.replace('-',np.nan)\n",
    "gamma_test = signal[signal['Gg'].isnull()]\n",
    "gamma_x_test = gamma_test[['Z','A']]\n",
    "signal.dropna(inplace=True)\n",
    "\n",
    "gamma_x_train = signal[['Z','A']]\n",
    "gamma_y_train = signal[['Gg']]\n",
    "gamma_x_train = gamma_x_train.values.reshape(-1,2)\n",
    "gamma_y_train = gamma_y_train.values.ravel()\n",
    "\n",
    "rfmissgg = RandomForestRegressor(n_estimators=500,max_depth=100,random_state=10,max_features=2)\n",
    "rfmissgg.fit(gamma_x_train,gamma_y_train)\n",
    "ymiss_pred = rfmissgg.predict(gamma_x_test)\n",
    "\n",
    "rfmiss_err = abs(fci.random_forest_error(rfmissgg,gamma_x_train,gamma_x_test,calibrate=False))\n",
    "\n",
    "gamma_x_test['Gg'] = ymiss_pred\n",
    "gamma_x_test['dG'] = np.sqrt(rfmiss_err)\n",
    "gamma_train = signal[['Z','A','Gg','dG']]\n",
    "gamma_full = pd.concat([gamma_train, gamma_x_test])\n",
    "gamma_full = gamma_full.sort_values(by=['Z'])"
   ]
  },
  {
   "cell_type": "code",
   "execution_count": 3,
   "id": "f3d62f87",
   "metadata": {},
   "outputs": [],
   "source": [
    "x = gamma_full[['Z','A']]\n",
    "y = gamma_full[['Gg','dG']]\n",
    "arr_x = x.values.reshape(-1,2)\n",
    "arr_y = y.values.reshape(-1,2)\n",
    "arr_y_pred, arr_y_err = np.hsplit(arr_y,2)\n",
    "arr_y_err = arr_y_err.ravel()\n",
    "arr_y_pred = arr_y_pred.ravel()\n",
    "\n",
    "\n",
    "X_train, X_test, y_train, y_test = train_test_split(arr_x, arr_y, test_size=0.2, random_state=11)\n",
    "\n",
    "X_train_inc = pd.DataFrame(X_train, columns=['Z','A'])\n",
    "X_train_inc['A'] = X_train_inc['A'] + 1\n",
    "arr_X_train_inc = X_train_inc.values.reshape(-1,2)\n",
    "\n",
    "X_test_inc = pd.DataFrame(X_test, columns=['Z','A'])\n",
    "X_test_inc['A'] = X_test_inc['A'] + 1\n",
    "arr_X_test_inc = X_test_inc.values.reshape(-1,2)\n",
    "\n",
    "y_train, y_train_dd = np.hsplit(y_train,2)\n",
    "y_test, y_test_dd = np.hsplit(y_test,2)\n",
    "\n",
    "y_train = y_train.ravel()\n",
    "y_test = y_test.ravel()\n",
    "y_test_dd = y_test_dd.ravel()\n",
    "\n",
    "rf = RandomForestRegressor(n_estimators=500,max_depth=100,random_state=10,max_features=2)\n",
    "rf.fit(X_train,y_train)\n",
    "score = rf.score(X_train,y_train)\n",
    "\n",
    "y_pred = rf.predict(X_test)\n",
    "rf_err = abs(fci.random_forest_error(rf,X_train,X_test,calibrate=False))\n",
    "mse = mean_squared_error(y_test, y_pred)\n",
    "\n",
    "\n",
    "# total_errs = [np.sqrt(rf_err[i] + float(y_test_dd[i])**2) for i in np.arange(len(X_test))]\n",
    "\n",
    "ratio = [round(float(y_pred[i]) /(float(y_test[i])),4) for i in np.arange(len(y_pred))]\n",
    "ratio_err = [round(ratio[i]*np.sqrt(float(rf_err[i]) / float(y_pred[i])**2 + (float(y_test_dd[i]) / float(y_test[i]))**2),4) for i in np.arange(len(y_pred))]"
   ]
  },
  {
   "cell_type": "code",
   "execution_count": 4,
   "id": "fdd3d342",
   "metadata": {},
   "outputs": [],
   "source": [
    "with open(\"data_gamma.txt\",\"w\") as f:\n",
    "    f.write('# Basic Learning Model - Showing Test Case of Average Radiative Width - Score:{0} - MSE: {1} \\n'.format(round(score,4),round(mse,4)))\n",
    "    f.write('#Z   A   Gg   dG   mlGg   mldG   mlGg/gg   d(mlGg/gg)\\n')\n",
    "    for i in range(0, len(y_pred)):\n",
    "        f.write(\"{0}   {1}   {2}   {3}   {4}   {5}   {6}   {7}\\n\".format(arr_X_test_inc[i,0],arr_X_test_inc[i,1],y_test[i],y_test_dd[i],round(y_pred[i],4),round(np.sqrt(rf_err[i]),4),ratio[i],ratio_err[i]))"
   ]
  },
  {
   "cell_type": "code",
   "execution_count": 5,
   "id": "f4a7055f",
   "metadata": {},
   "outputs": [],
   "source": [
    "test_data = pd.read_csv(\"test.txt\", delim_whitespace=True)\n",
    "test_data = test_data[['Z','A']]\n",
    "arr_test_data = test_data.values.reshape(-1,2)\n",
    "\n",
    "test_data_inc = test_data[['A']]+1\n",
    "arr_test_data_inc = test_data_inc.values.reshape(-1,1)\n",
    "arr_test_data_inc = arr_test_data_inc.ravel()\n",
    "\n",
    "rf.fit(arr_x,arr_y_pred)\n",
    "test_score = rf.score(arr_x,arr_y_pred)\n",
    "y_pred_test = rf.predict(test_data)\n",
    "rf_err_test = abs(fci.random_forest_error(rf,arr_x,test_data,calibrate=False))"
   ]
  },
  {
   "cell_type": "code",
   "execution_count": 6,
   "id": "b6896197",
   "metadata": {},
   "outputs": [],
   "source": [
    "gg = pd.read_csv(\"Gg_talys_data.txt\", delim_whitespace=True)\n",
    "gg = gg[['ldmodel1','ldmodel5','ldmodel6']]\n",
    "gg = gg.values.reshape(-1,3)\n",
    "\n",
    "ld1ratio = [round(y_pred_test[i] /(gg[i,0]*1000),4) for i in np.arange(len(y_pred_test))]\n",
    "ld5ratio = [round(y_pred_test[i] /(gg[i,1]*1000),4) for i in np.arange(len(y_pred_test))]\n",
    "ld6ratio = [round(y_pred_test[i] /(gg[i,2]*1000),4) for i in np.arange(len(y_pred_test))]"
   ]
  },
  {
   "cell_type": "code",
   "execution_count": 7,
   "id": "c3d493a3",
   "metadata": {},
   "outputs": [],
   "source": [
    "with open(\"data_gamma_test.txt\",\"w\") as f:\n",
    "    f.write('# Basic Learning Model - Calculating unknown test case of Average Radiative Width - Score:{0} \\n'.format(round(test_score,4)))\n",
    "    f.write('#Z   A  mlGg   mldG   ld1ratio   ld5ratio   ld6ratio \\n')\n",
    "    for i in range(0, len(y_pred_test)):\n",
    "        f.write(\"{0}   {1}   {2}   {3}   {4}   {5}   {6}\\n\".format(arr_test_data[i,0],arr_test_data_inc[i],round(y_pred_test[i],4),round(np.sqrt(rf_err_test[i]),4),ld1ratio[i],ld5ratio[i],ld6ratio[i]))"
   ]
  },
  {
   "cell_type": "code",
   "execution_count": 8,
   "id": "9c84aa31",
   "metadata": {},
   "outputs": [],
   "source": [
    "a_inc = signal[['A']] + 1\n",
    "arr_a_inc = a_inc.values.reshape(-1,1)\n",
    "arr_a_inc = arr_a_inc.ravel()"
   ]
  },
  {
   "cell_type": "code",
   "execution_count": 9,
   "id": "c26ea021",
   "metadata": {},
   "outputs": [],
   "source": [
    "with open(\"data_inc_gg.txt\",\"w\") as f:\n",
    "#     f.write('# Basic Learning Model - Calculating unknown test case - Score:{0} \\n'.format(round(test_score,4)))\n",
    "#     f.write('#Z   A   mlD0   mlDd   ldratio1   ldratio5   ldratio6\\n')\n",
    "    for i in range(0, len(arr_a_inc)):\n",
    "        f.write(\"{0}      {1}      {2} \\n\".format(arr_a_inc[i],arr_y_pred[i],arr_y_err[i]))"
   ]
  },
  {
   "cell_type": "code",
   "execution_count": null,
   "id": "650237de",
   "metadata": {},
   "outputs": [],
   "source": []
  }
 ],
 "metadata": {
  "kernelspec": {
   "display_name": "Python 3 (ipykernel)",
   "language": "python",
   "name": "python3"
  },
  "language_info": {
   "codemirror_mode": {
    "name": "ipython",
    "version": 3
   },
   "file_extension": ".py",
   "mimetype": "text/x-python",
   "name": "python",
   "nbconvert_exporter": "python",
   "pygments_lexer": "ipython3",
   "version": "3.8.8"
  }
 },
 "nbformat": 4,
 "nbformat_minor": 5
}
