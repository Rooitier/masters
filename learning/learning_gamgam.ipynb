{
 "cells": [
  {
   "cell_type": "code",
   "execution_count": 1,
   "id": "72c58061",
   "metadata": {},
   "outputs": [
    {
     "name": "stderr",
     "output_type": "stream",
     "text": [
      "Failed to import duecredit due to No module named 'duecredit'\n"
     ]
    }
   ],
   "source": [
    "import collections\n",
    "import warnings\n",
    "from pandas.core.common import SettingWithCopyWarning\n",
    "import pandas as pd\n",
    "import numpy as np\n",
    "import seaborn as sns\n",
    "import matplotlib.font_manager\n",
    "from scipy.stats import ks_2samp\n",
    "import matplotlib.pyplot as plt\n",
    "from sklearn.utils import shuffle\n",
    "from sklearn.model_selection import train_test_split\n",
    "from sklearn.linear_model import LinearRegression\n",
    "from sklearn.ensemble import RandomForestRegressor\n",
    "import forestci as fci\n",
    "warnings.simplefilter(action=\"ignore\", category=SettingWithCopyWarning)"
   ]
  },
  {
   "cell_type": "code",
   "execution_count": 2,
   "id": "a90c23f5",
   "metadata": {},
   "outputs": [],
   "source": [
    "signal = pd.read_csv(\"resonances0.txt\", delim_whitespace=True)\n",
    "val_data = pd.read_csv(\"comp.txt\", delim_whitespace=True)\n",
    "signal = signal.replace('-',np.nan)\n",
    "gamma_test = signal[signal['Gg'].isnull()]\n",
    "gamma_x_test = gamma_test[['Z','A']]\n",
    "signal.dropna(inplace=True)\n",
    "\n",
    "gamma_x_train = signal[['Z','A']]\n",
    "gamma_y_train = signal[['Gg']]\n",
    "gamma_x_train = gamma_x_train.values.reshape(-1,2)\n",
    "gamma_y_train = gamma_y_train.values.ravel()\n",
    "\n",
    "rfmissgg = RandomForestRegressor(n_estimators=500,max_depth=250,random_state=10,max_features=2)\n",
    "rfmissgg.fit(gamma_x_train,gamma_y_train)\n",
    "\n",
    "y_pred = rfmissgg.predict(gamma_x_test)\n",
    "gamma_x_test['Gg'] = y_pred\n"
   ]
  },
  {
   "cell_type": "code",
   "execution_count": 3,
   "id": "38b35fcc",
   "metadata": {},
   "outputs": [],
   "source": [
    "gamma_train = signal[['Z','A','Gg']]\n",
    "gamma_full = pd.concat([gamma_train, gamma_x_test])\n",
    "gamma_full = gamma_full.sort_values(by=['Z'])\n"
   ]
  },
  {
   "cell_type": "code",
   "execution_count": 4,
   "id": "f3d62f87",
   "metadata": {},
   "outputs": [],
   "source": [
    "x = gamma_full[['Z','A']]\n",
    "y = gamma_full[['Gg']]\n",
    "arr_x = x.values.reshape(-1,2)\n",
    "arr_y = y.values.ravel()\n",
    "X_train, X_test, y_train, y_test = train_test_split(arr_x, arr_y, test_size=0.2, random_state=11)"
   ]
  },
  {
   "cell_type": "code",
   "execution_count": 5,
   "id": "66348cd5",
   "metadata": {},
   "outputs": [],
   "source": [
    "rf = RandomForestRegressor(n_estimators=500,max_depth=500,random_state=10,max_features=2)\n",
    "rf.fit(X_train,y_train)\n",
    "rf.score(X_train,y_train)\n",
    "\n",
    "y_pred = rf.predict(X_test)\n",
    "rf_err = abs(fci.random_forest_error(rf,X_train,X_test,calibrate=False))"
   ]
  },
  {
   "cell_type": "code",
   "execution_count": 6,
   "id": "fdd3d342",
   "metadata": {},
   "outputs": [],
   "source": [
    "with open(\"data_gamma.txt\",\"w\") as f:\n",
    "    # f.write(' Z=  22 A=  46\\n')\n",
    "    # f.write('  U[MeV]  fE1[mb/MeV]\\n')\n",
    "    for i in range(0, len(y_pred)):\n",
    "        f.write(\"{0}   {1}   {2}   {3}\\n\".format(X_test[i,0],X_test[i,1],round(y_pred[i],4),round(np.sqrt(rf_err[i]),4)))"
   ]
  },
  {
   "cell_type": "code",
   "execution_count": 7,
   "id": "f4a7055f",
   "metadata": {},
   "outputs": [],
   "source": [
    "test_data = pd.read_csv(\"test.txt\", delim_whitespace=True)\n",
    "test_data = test_data[['Z','A']]\n",
    "test_data = test_data.values.reshape(-1,2)\n",
    "\n",
    "y_pred_test = rf.predict(test_data)\n",
    "rf_err_test = abs(fci.random_forest_error(rf,X_train,test_data,calibrate=False))"
   ]
  },
  {
   "cell_type": "code",
   "execution_count": 9,
   "id": "c3d493a3",
   "metadata": {},
   "outputs": [],
   "source": [
    "with open(\"data_gamma_test.txt\",\"w\") as f:\n",
    "    # f.write(' Z=  22 A=  46\\n')\n",
    "    # f.write('  U[MeV]  fE1[mb/MeV]\\n')\n",
    "    for i in range(0, len(y_pred_test)):\n",
    "        f.write(\"{0}   {1}   {2}   {3}\\n\".format(test_data[i,0],test_data[i,1],round(y_pred_test[i],4),round(np.sqrt(rf_err_test[i]),4)))"
   ]
  },
  {
   "cell_type": "code",
   "execution_count": null,
   "id": "c26ea021",
   "metadata": {},
   "outputs": [],
   "source": []
  }
 ],
 "metadata": {
  "kernelspec": {
   "display_name": "Python 3 (ipykernel)",
   "language": "python",
   "name": "python3"
  },
  "language_info": {
   "codemirror_mode": {
    "name": "ipython",
    "version": 3
   },
   "file_extension": ".py",
   "mimetype": "text/x-python",
   "name": "python",
   "nbconvert_exporter": "python",
   "pygments_lexer": "ipython3",
   "version": "3.8.8"
  }
 },
 "nbformat": 4,
 "nbformat_minor": 5
}
