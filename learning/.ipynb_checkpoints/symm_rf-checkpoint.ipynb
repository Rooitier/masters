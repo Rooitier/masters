{
 "cells": [
  {
   "cell_type": "code",
   "execution_count": 1,
   "metadata": {},
   "outputs": [
    {
     "name": "stderr",
     "output_type": "stream",
     "text": [
      "Failed to import duecredit due to No module named 'duecredit'\n"
     ]
    }
   ],
   "source": [
    "import collections\n",
    "import pandas as pd\n",
    "import numpy as np\n",
    "import seaborn as sns\n",
    "import matplotlib.font_manager\n",
    "from scipy.stats import ks_2samp\n",
    "import matplotlib.pyplot as plt\n",
    "from sklearn.utils import shuffle\n",
    "from sklearn.model_selection import train_test_split\n",
    "from sklearn.linear_model import LinearRegression\n",
    "from sklearn.ensemble import RandomForestRegressor\n",
    "import forestci as fci"
   ]
  },
  {
   "cell_type": "code",
   "execution_count": 2,
   "metadata": {},
   "outputs": [],
   "source": [
    "signal = pd.read_csv(\"resonances0.txt\", delim_whitespace=True)\n",
    "test_data = pd.read_csv(\"test.txt\", delim_whitespace=True)\n",
    "val_data = pd.read_csv(\"comp.txt\", delim_whitespace=True)\n",
    "test_data = test_data[['Z','A']]\n",
    "arr_test_data = test_data.values.reshape(-1,2)\n",
    "test_data_inc = test_data[['A']]+1\n",
    "arr_test_data_inc = test_data_inc.values.reshape(-1,1)"
   ]
  },
  {
   "cell_type": "code",
   "execution_count": 4,
   "metadata": {},
   "outputs": [
    {
     "name": "stdout",
     "output_type": "stream",
     "text": [
      "0.956331440482059\n"
     ]
    }
   ],
   "source": [
    "# Even-even residual nuclei\n",
    "\n",
    "signaleven = signal[signal['Z'] % 2 == 0]\n",
    "e1filter = signaleven[signaleven['A'] % 2 != 0] # Selecting only even data\n",
    "\n",
    "# Odd-Odd residual nuclei\n",
    "\n",
    "signalodd = signal[signal['Z'] % 2 != 0]\n",
    "e2filter = signalodd[signalodd['A'] % 2 == 0]\n",
    "\n",
    "efilter = pd.concat([e1filter,e2filter])\n",
    "efilter = efilter.sort_values(by=['Z'])\n",
    "\n",
    "x = efilter[['Z','A']]\n",
    "y = efilter[['D0','dD']]\n",
    "arr_x = x.values.reshape(-1,2) # Reshaping data for ML\n",
    "arr_y = y.values.reshape(-1,2)\n",
    "\n",
    "X_train, X_test, y_train, y_test = train_test_split(arr_x, arr_y, test_size=0.2, random_state=11) # Splitting data into 80% training and 20% testing\n",
    "\n",
    "X_train_inc = pd.DataFrame(X_train, columns=['Z','A'])\n",
    "X_train_inc['A'] = X_train_inc['A'] + 1\n",
    "arr_X_train_inc = X_train_inc.values.reshape(-1,2)\n",
    "\n",
    "X_test_inc = pd.DataFrame(X_test, columns=['Z','A'])\n",
    "X_test_inc['A'] = X_test_inc['A'] + 1\n",
    "arr_X_test_inc = X_test_inc.values.reshape(-1,2)\n",
    "\n",
    "y_train, y_train_dd = np.hsplit(y_train,2)\n",
    "y_test, y_test_dd = np.hsplit(y_test,2)\n",
    "\n",
    "y_train = y_train.ravel()\n",
    "y_test = y_test.ravel()\n",
    "y_test_dd = y_test_dd.ravel()\n",
    "\n",
    "\n",
    "\n",
    "rfe = RandomForestRegressor(n_estimators=500,max_depth=500,random_state=10,max_features=2) # Building a RF\n",
    "rfe.fit(X_train,y_train)\n",
    "print(rfe.score(X_train,y_train))\n",
    "\n",
    "y_pred = rfe.predict(X_test)\n",
    "\n",
    "rf_err = abs(fci.random_forest_error(rfe,X_train,X_test,calibrate=False)) # RF Errors\n",
    "\n",
    "#Even-Even Residual Nucleus experimental data\n",
    "\n",
    "ee_data = test_data[test_data['Z'] % 2 == 0] # Unknown data set Even-Even\n",
    "e1_data = ee_data[ee_data['A'] % 2 != 0] # Unknown data set Even-Even\n",
    "\n",
    "#Odd-Odd Residual Nucleus experimental data\n",
    "\n",
    "oo_data = test_data[test_data['Z'] % 2 != 0] \n",
    "e2_data = oo_data[oo_data['A'] % 2 == 0]\n",
    "\n",
    "testfilter = pd.concat([e1_data,e2_data])\n",
    "testfilter = testfilter.sort_values(by=['Z'])\n",
    "\n",
    "e_data = testfilter.values.reshape(-1,2)\n",
    "\n",
    "arr_test_data = test_data.values.reshape(-1,2)\n",
    "test_data_inc = test_data[['A']]+1\n",
    "arr_test_data_inc = test_data_inc.values.reshape(-1,1)\n",
    "arr_test_data_inc = arr_test_data_inc.ravel()\n",
    "\n",
    "ye_pred = rfe.predict(e_data) # Prediciton of unknown data set\n",
    "rfe_err = abs(fci.random_forest_error(rfe,X_train,e_data,calibrate=False)) # Errors of unkown data set\n",
    "\n",
    "\n"
   ]
  },
  {
   "cell_type": "code",
   "execution_count": 5,
   "metadata": {},
   "outputs": [
    {
     "data": {
      "image/png": "[encoded data removed]",
      "text/plain": [
       "<Figure size 432x288 with 1 Axes>"
      ]
     },
     "metadata": {
      "needs_background": "light"
     },
     "output_type": "display_data"
    }
   ],
   "source": [
    "# Plotting\n",
    "\n",
    "plt.errorbar(efilter['Z'],efilter['D0'],yerr=efilter['dD'],fmt='o',markersize=3, color='red',label='NNDC Data')\n",
    "#plt.errorbar(X_test[:,0],y_pred,yerr=np.sqrt(rf_err),fmt='o',markersize=3, color='blue',label='Test Prediction')\n",
    "plt.errorbar(e_data[:,0],ye_pred,yerr=np.sqrt(rfe_err),fmt='o',markersize=3, color='black',label='ML Prediction')\n",
    "\n",
    "#plt.fill_between(X_test[:,0], y_pred - np.sqrt(rf_err), y_pred + np.sqrt(rf_err), alpha=0.5, edgecolor='#1B2ACC', facecolor='#089FFF',label='ML Error')\n",
    "#plt.scatter(X_test[:,0],y_pred,s=3,label='ML Prediction')\n",
    "\n",
    "#plt.xlim(20,42)\n",
    "#plt.ylim(0,80)\n",
    "\n",
    "plt.legend()\n",
    "plt.xlabel(\"Z\")\n",
    "plt.ylabel(\"D0 (keV)\")\n",
    "plt.show()"
   ]
  },
  {
   "cell_type": "code",
   "execution_count": null,
   "metadata": {},
   "outputs": [],
   "source": [
    "with open(\"data_even.txt\",\"w\") as f:\n",
    "    f.write('# Basic Learning Model - Showing Test Case of Symmetric Nuclei \\n')\n",
    "    f.write('#Z   A   D0   dD   mlD0   mlDd \\n')\n",
    "    for i in range(0, len(y_pred)):\n",
    "        f.write(\"{0}   {1}   {2}   {3}   {4}   {5}\\n\".format(arr_X_test_inc[i,0],arr_X_test_inc[i,1],y_test[i],y_test_dd[i],round(y_pred[i],4),round(np.sqrt(rf_err[i]),4)))"
   ]
  },
  {
   "cell_type": "code",
   "execution_count": null,
   "metadata": {},
   "outputs": [],
   "source": [
    "with open(\"data_even_test.txt\",\"w\") as f:\n",
    "    f.write('# Basic Learning Model - Calculating unknown symmetric test case \\n')\n",
    "    f.write('#Z   A   mlD0   mlDd \\n')\n",
    "    for i in range(0, len(ye_pred)):\n",
    "        f.write(\"{0}   {1}   {2}   {3}\\n\".format(arr_test_data[i,0],arr_test_data_inc[i],round(ye_pred[i],4),round(np.sqrt(rfe_err[i]),4)))"
   ]
  },
  {
   "cell_type": "code",
   "execution_count": null,
   "metadata": {},
   "outputs": [],
   "source": []
  }
 ],
 "metadata": {
  "interpreter": {
   "hash": "2ac76aed366666d06b2dbc895d6cbcaff40415eb429273b629a6c397735c7c04"
  },
  "kernelspec": {
   "display_name": "Python 3 (ipykernel)",
   "language": "python",
   "name": "python3"
  },
  "language_info": {
   "codemirror_mode": {
    "name": "ipython",
    "version": 3
   },
   "file_extension": ".py",
   "mimetype": "text/x-python",
   "name": "python",
   "nbconvert_exporter": "python",
   "pygments_lexer": "ipython3",
   "version": "3.8.8"
  }
 },
 "nbformat": 4,
 "nbformat_minor": 2
}
