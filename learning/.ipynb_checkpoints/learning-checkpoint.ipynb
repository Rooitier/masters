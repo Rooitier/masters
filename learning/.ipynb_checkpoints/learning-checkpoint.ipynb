{
 "cells": [
  {
   "cell_type": "code",
   "execution_count": 1,
   "metadata": {},
   "outputs": [
    {
     "name": "stderr",
     "output_type": "stream",
     "text": [
      "Failed to import duecredit due to No module named 'duecredit'\n"
     ]
    }
   ],
   "source": [
    "import collections\n",
    "import pandas as pd\n",
    "import numpy as np\n",
    "import seaborn as sns\n",
    "import matplotlib.font_manager\n",
    "from scipy.stats import ks_2samp\n",
    "import matplotlib.pyplot as plt\n",
    "from sklearn.utils import shuffle\n",
    "from sklearn.model_selection import train_test_split\n",
    "from sklearn.linear_model import LinearRegression\n",
    "from sklearn.ensemble import RandomForestRegressor\n",
    "import forestci as fci\n"
   ]
  },
  {
   "cell_type": "code",
   "execution_count": 2,
   "metadata": {},
   "outputs": [],
   "source": [
    "signal = pd.read_csv(\"resonances0.txt\", delim_whitespace=True)\n",
    "val_data = pd.read_csv(\"comp.txt\", delim_whitespace=True)"
   ]
  },
  {
   "cell_type": "code",
   "execution_count": 3,
   "metadata": {},
   "outputs": [
    {
     "data": {
      "text/plain": [
       "((283, 12),\n",
       "     Z  El   A   Io      Bn    D0   dD   S0   dS    Gg   dG Com.\n",
       " 0  20  Ca  40  0.0   8.363  45.0  4.0  2.7  0.7  1500  900  06M\n",
       " 1  20  Ca  42  0.0   7.933  20.0  5.0  2.5  0.5  1100  200  96I\n",
       " 2  20  Ca  43  3.5  11.131   1.8  0.3  3.6  0.6   750   40  96I\n",
       " 3  20  Ca  44  0.0   7.415  24.1  3.2  2.4  0.5  1300  400  96I\n",
       " 4  21  Sc  45  3.5   8.761   1.3  0.1  4.4  0.6   840  460  96I)"
      ]
     },
     "execution_count": 3,
     "metadata": {},
     "output_type": "execute_result"
    }
   ],
   "source": [
    "signal.shape, signal.head()"
   ]
  },
  {
   "cell_type": "code",
   "execution_count": 4,
   "metadata": {},
   "outputs": [],
   "source": [
    "x = signal[['Z','A']]\n",
    "y = signal[['D0']]\n",
    "arr_x = x.values.reshape(-1,2)\n",
    "arr_y = y.values.ravel()\n"
   ]
  },
  {
   "cell_type": "code",
   "execution_count": 5,
   "metadata": {},
   "outputs": [],
   "source": [
    "X_train, X_test, y_train, y_test = train_test_split(arr_x, arr_y, test_size=0.2, random_state=11)\n",
    "\n"
   ]
  },
  {
   "cell_type": "code",
   "execution_count": 6,
   "metadata": {},
   "outputs": [
    {
     "data": {
      "text/plain": [
       "0.8629767528891634"
      ]
     },
     "execution_count": 6,
     "metadata": {},
     "output_type": "execute_result"
    }
   ],
   "source": [
    "rf = RandomForestRegressor(n_estimators=100,max_depth=11,random_state=10,max_features=2)\n",
    "rf.fit(X_train,y_train)\n",
    "rf.score(X_train,y_train)"
   ]
  },
  {
   "cell_type": "code",
   "execution_count": 7,
   "metadata": {},
   "outputs": [],
   "source": [
    "test_data = pd.read_csv(\"test.txt\", delim_whitespace=True)\n",
    "test_data = test_data[['Z','A']]"
   ]
  },
  {
   "cell_type": "code",
   "execution_count": 8,
   "metadata": {},
   "outputs": [],
   "source": [
    "#  y_pred = rf.predict(test_data)"
   ]
  },
  {
   "cell_type": "code",
   "execution_count": 9,
   "metadata": {},
   "outputs": [],
   "source": [
    "y_pred = rf.predict(X_test)"
   ]
  },
  {
   "cell_type": "code",
   "execution_count": 10,
   "metadata": {},
   "outputs": [],
   "source": [
    "rf_err = abs(fci.random_forest_error(rf,X_train,X_test,calibrate=False))"
   ]
  },
  {
   "cell_type": "code",
   "execution_count": 12,
   "metadata": {},
   "outputs": [],
   "source": [
    "# test_data = pd.read_csv(\"res_general.txt\", delim_whitespace=True)\n",
    "# test_data = test_data[['Z','A']]\n",
    "\n",
    "# res = rf.predict(X_test)\n",
    "# rf_err = abs(fci.random_forest_error(rf,X_train,X_test,calibrate=False))\n",
    "# print(test_data)"
   ]
  },
  {
   "cell_type": "code",
   "execution_count": 13,
   "metadata": {},
   "outputs": [
    {
     "data": {
      "image/png": "[encoded data removed]",
      "text/plain": [
       "<Figure size 432x288 with 1 Axes>"
      ]
     },
     "metadata": {
      "needs_background": "light"
     },
     "output_type": "display_data"
    }
   ],
   "source": [
    "plt.errorbar(signal['A'],signal['D0'],yerr=signal['dD'],fmt='o',markersize=3, color='red',label='NNDC Data')\n",
    "# plt.fill_between(signal['Z'], y_pred - np.sqrt(rf_err), y_pred + np.sqrt(rf_err), alpha=0.5, edgecolor='#1B2ACC', facecolor='#089FFF',label='ML Error')\n",
    "plt.errorbar(X_test[:,1],y_pred,yerr=np.sqrt(rf_err),fmt='o',markersize=3, color='black',label='ML Prediction')\n",
    "#plt.errorbar(val_data['Z'],val_data['D0'],yerr=val_data['dD'],fmt='o',markersize=3, color='Green',label='Comparison Data')\n",
    "\n",
    "# plt.xlim(48,52)\n",
    "# plt.ylim(0,10)\n",
    "\n",
    "plt.legend()\n",
    "plt.xlabel(\"A\")\n",
    "plt.ylabel(\"$D_0$ (keV)\")\n",
    "plt.show()"
   ]
  },
  {
   "cell_type": "code",
   "execution_count": 14,
   "metadata": {},
   "outputs": [
    {
     "name": "stdout",
     "output_type": "stream",
     "text": [
      "[1.82622035e-01 2.43917855e+01 3.63576736e-01 1.21725408e+00\n",
      " 1.36021125e+00 1.39686598e+00 1.22159689e+00 1.20601475e+00\n",
      " 1.10112583e+00 1.34409202e+00 1.04286845e+00 1.26056094e+00\n",
      " 1.21958507e+00 1.19917547e+00 1.15132374e-02 6.99301955e-01\n",
      " 1.21946217e+00 4.32735263e+00 8.42897083e-01 1.43820749e+00\n",
      " 1.25003595e-01 1.88605029e-02 1.20331061e+00 3.89213000e+00\n",
      " 2.24090887e+00 8.88240744e-01 7.25403823e+00 8.57321142e-01\n",
      " 1.24057613e+00 1.60587195e+00 1.22017366e+00 3.22615090e+00\n",
      " 1.78132388e-01 9.29609626e-01 1.46571574e+00 1.16837228e+00\n",
      " 1.61192071e+00 1.22030835e+00 1.45932730e+01 6.52021619e-01\n",
      " 1.42681377e+00 1.10587595e+02 4.20361854e+00 1.23097581e+00\n",
      " 1.25799633e+00 1.20598860e+00 2.74531832e+01 1.21545994e+00\n",
      " 2.23175756e+00 1.19237847e+00 1.21793636e+00 3.75147895e-01\n",
      " 3.64809510e-01 1.52725078e+00 1.15021840e+02 1.37385178e+01\n",
      " 1.46875129e+02]\n"
     ]
    }
   ],
   "source": [
    "print(rf_err)"
   ]
  },
  {
   "cell_type": "code",
   "execution_count": 15,
   "metadata": {},
   "outputs": [
    {
     "name": "stdout",
     "output_type": "stream",
     "text": [
      "[1.83537750e+00 1.03136000e+01 3.87540393e-01 3.46756251e-02\n",
      " 1.39690666e+00 7.44951582e-02 3.25374363e-02 1.09074778e-02\n",
      " 3.26505580e-02 1.23515387e-01 4.97797645e-02 4.83247553e-02\n",
      " 1.46224333e-03 2.97961412e-02 6.91087741e-01 7.52124846e-01\n",
      " 3.52413001e-02 8.07200000e+00 4.84580988e-01 3.62739399e-01\n",
      " 7.69375579e-01 2.09411250e+00 2.66015246e-02 1.25701123e+00\n",
      " 1.68697774e+00 1.88934848e-01 2.15840000e+01 1.32904506e+00\n",
      " 3.04541135e-02 1.09701077e-01 9.86230063e-02 2.00300000e+01\n",
      " 2.30623168e-01 4.81053599e-01 1.30569968e-01 1.58415467e-02\n",
      " 1.15835605e-01 4.51032333e-03 1.19485000e+01 1.82731548e+00\n",
      " 1.21761315e+00 4.00145000e+01 1.57730000e+01 6.68775000e-03\n",
      " 4.31878921e-02 1.24130095e-02 1.28335667e+01 3.49760000e-03\n",
      " 3.44908750e+00 9.29718639e-03 1.48071833e-03 2.87900988e-01\n",
      " 2.63766581e+00 3.15143010e-01 3.67490000e+01 2.18730000e+01\n",
      " 3.66602000e+01]\n"
     ]
    }
   ],
   "source": [
    "print(y_pred)"
   ]
  },
  {
   "cell_type": "code",
   "execution_count": 36,
   "metadata": {},
   "outputs": [],
   "source": [
    "with open(\"data.txt\",\"w\") as f:\n",
    "    # f.write(' Z=  22 A=  46\\n')\n",
    "    # f.write('  U[MeV]  fE1[mb/MeV]\\n')\n",
    "    for i in range(0, len(y_pred)):\n",
    "        f.write(\"{0}   {1}\\n\".format(y_pred[i],np.sqrt(rf_err[i])))"
   ]
  },
  {
   "cell_type": "code",
   "execution_count": null,
   "metadata": {},
   "outputs": [],
   "source": []
  }
 ],
 "metadata": {
  "interpreter": {
   "hash": "2ac76aed366666d06b2dbc895d6cbcaff40415eb429273b629a6c397735c7c04"
  },
  "kernelspec": {
   "display_name": "Python 3 (ipykernel)",
   "language": "python",
   "name": "python3"
  },
  "language_info": {
   "codemirror_mode": {
    "name": "ipython",
    "version": 3
   },
   "file_extension": ".py",
   "mimetype": "text/x-python",
   "name": "python",
   "nbconvert_exporter": "python",
   "pygments_lexer": "ipython3",
   "version": "3.8.8"
  }
 },
 "nbformat": 4,
 "nbformat_minor": 2
}
