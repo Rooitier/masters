{
 "cells": [
  {
   "cell_type": "code",
   "execution_count": 1,
   "metadata": {},
   "outputs": [
    {
     "name": "stderr",
     "output_type": "stream",
     "text": [
      "Failed to import duecredit due to No module named 'duecredit'\n"
     ]
    }
   ],
   "source": [
    "import collections\n",
    "import pandas as pd\n",
    "import numpy as np\n",
    "import seaborn as sns\n",
    "import matplotlib.font_manager\n",
    "from scipy.stats import ks_2samp\n",
    "import matplotlib.pyplot as plt\n",
    "from sklearn.utils import shuffle\n",
    "from sklearn.model_selection import train_test_split\n",
    "from sklearn.linear_model import LinearRegression\n",
    "from sklearn.ensemble import RandomForestRegressor\n",
    "import forestci as fci"
   ]
  },
  {
   "cell_type": "code",
   "execution_count": 28,
   "metadata": {},
   "outputs": [],
   "source": [
    "signal = pd.read_csv(\"resonances0.txt\", delim_whitespace=True)\n",
    "test_data = pd.read_csv(\"res_general.txt\", delim_whitespace=True)\n",
    "val_data = pd.read_csv(\"comp.txt\", delim_whitespace=True)\n",
    "test_data = test_data[['Z','A']]"
   ]
  },
  {
   "cell_type": "code",
   "execution_count": 25,
   "metadata": {},
   "outputs": [
    {
     "name": "stdout",
     "output_type": "stream",
     "text": [
      "0.9040824372050509\n"
     ]
    }
   ],
   "source": [
    "# Even-even nuclei\n",
    "\n",
    "signal = signal[signal['Z'] % 2 == 0]\n",
    "efilter = signal[signal['A'] % 2 == 0] # Selecting only even data\n",
    "\n",
    "\n",
    "x = efilter[['Z','A']]\n",
    "y = efilter[['D0']]\n",
    "arr_x = x.values.reshape(-1,2) # Reshaping data for ML\n",
    "arr_y = y.values.ravel()\n",
    "\n",
    "X_train, X_test, y_train, y_test = train_test_split(arr_x, arr_y, test_size=0.2, random_state=11) # Splitting data into 80% training and 20% testing\n",
    "\n",
    "rfe = RandomForestRegressor(n_estimators=200,max_depth=10,random_state=10,max_features=2) # Building a RF\n",
    "rfe.fit(X_train,y_train)\n",
    "print(rfe.score(X_train,y_train))\n",
    "\n",
    "y_pred = rfe.predict(X_test)\n",
    "\n",
    "rf_err = abs(fci.random_forest_error(rfe,X_train,X_test,calibrate=False)) # RF Errors\n",
    "y_pred = rfe.predict(X_test)\n",
    "\n",
    "\n",
    "e_data = test_data[test_data['Z'] % 2 == 0] # Unknown data set Even-Even\n",
    "e_data = e_data[e_data['A'] % 2 == 0] # Unknown data set Even-Even\n",
    "e_data = e_data.values.reshape(-1,2)\n",
    "ye_pred = rfe.predict(e_data) # Prediciton of unknown data set\n",
    "rfe_err = abs(fci.random_forest_error(rfe,efilter,e_data,calibrate=False)) # Errors of unkown data set\n",
    "\n",
    "\n"
   ]
  },
  {
   "cell_type": "code",
   "execution_count": 27,
   "metadata": {},
   "outputs": [
    {
     "data": {
      "image/png": "[encoded data removed]",
      "text/plain": [
       "<Figure size 432x288 with 1 Axes>"
      ]
     },
     "metadata": {
      "needs_background": "light"
     },
     "output_type": "display_data"
    }
   ],
   "source": [
    "# Plotting\n",
    "\n",
    "plt.errorbar(efilter['Z'],efilter['D0'],yerr=efilter['dD'],fmt='o',markersize=3, color='red',label='NNDC Data')\n",
    "#plt.errorbar(X_test[:,0],y_pred,yerr=np.sqrt(rf_err),fmt='o',markersize=3, color='blue',label='Test Prediction')\n",
    "plt.errorbar(e_data[:,0],ye_pred,yerr=np.sqrt(rfe_err),fmt='o',markersize=3, color='black',label='ML Prediction')\n",
    "\n",
    "#plt.fill_between(X_test[:,0], y_pred - np.sqrt(rf_err), y_pred + np.sqrt(rf_err), alpha=0.5, edgecolor='#1B2ACC', facecolor='#089FFF',label='ML Error')\n",
    "#plt.scatter(X_test[:,0],y_pred,s=3,label='ML Prediction')\n",
    "\n",
    "#plt.xlim(20,42)\n",
    "#plt.ylim(0,80)\n",
    "\n",
    "plt.legend()\n",
    "plt.xlabel(\"Z\")\n",
    "plt.ylabel(\"D0 (keV)\")\n",
    "plt.show()"
   ]
  },
  {
   "cell_type": "code",
   "execution_count": null,
   "metadata": {},
   "outputs": [],
   "source": [
    "e_data = test_data[test_data['Z'] % 2 == 0]\n",
    "e_data = e_data[e_data['A'] % 2 == 0]\n",
    "e_data = e_data.values.reshape(-1,2)"
   ]
  }
 ],
 "metadata": {
  "interpreter": {
   "hash": "2ac76aed366666d06b2dbc895d6cbcaff40415eb429273b629a6c397735c7c04"
  },
  "kernelspec": {
   "display_name": "Python 3 (ipykernel)",
   "language": "python",
   "name": "python3"
  },
  "language_info": {
   "codemirror_mode": {
    "name": "ipython",
    "version": 3
   },
   "file_extension": ".py",
   "mimetype": "text/x-python",
   "name": "python",
   "nbconvert_exporter": "python",
   "pygments_lexer": "ipython3",
   "version": "3.8.8"
  }
 },
 "nbformat": 4,
 "nbformat_minor": 2
}
