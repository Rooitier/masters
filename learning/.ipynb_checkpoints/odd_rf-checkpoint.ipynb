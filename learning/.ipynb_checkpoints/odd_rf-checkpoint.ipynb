{
 "cells": [
  {
   "cell_type": "code",
   "execution_count": 20,
   "metadata": {},
   "outputs": [],
   "source": [
    "import collections\n",
    "import pandas as pd\n",
    "import numpy as np\n",
    "import seaborn as sns\n",
    "import matplotlib.font_manager\n",
    "from scipy.stats import ks_2samp\n",
    "import matplotlib.pyplot as plt\n",
    "from sklearn.utils import shuffle\n",
    "from sklearn.model_selection import train_test_split\n",
    "from sklearn.linear_model import LinearRegression\n",
    "from sklearn.ensemble import RandomForestRegressor\n",
    "import forestci as fci"
   ]
  },
  {
   "cell_type": "code",
   "execution_count": 26,
   "metadata": {},
   "outputs": [
    {
     "data": {
      "text/plain": [
       "(283, 12)"
      ]
     },
     "execution_count": 26,
     "metadata": {},
     "output_type": "execute_result"
    }
   ],
   "source": [
    "signal = pd.read_csv(\"resonances0.txt\", delim_whitespace=True)\n",
    "test_data = pd.read_csv(\"res_general.txt\", delim_whitespace=True)\n",
    "val_data = pd.read_csv(\"comp.txt\", delim_whitespace=True)\n",
    "test_data = test_data[['Z','A']]\n",
    "signal.shape"
   ]
  },
  {
   "cell_type": "code",
   "execution_count": 22,
   "metadata": {},
   "outputs": [
    {
     "name": "stdout",
     "output_type": "stream",
     "text": [
      "      Z  El    A   Io      Bn       D0       dD    S0    dS    Gg   dG Com.\n",
      "2    20  Ca   43  3.5  11.131  1.80000  0.30000  3.60  0.60   750   40  96I\n",
      "4    21  Sc   45  3.5   8.761  1.30000  0.10000  4.40  0.60   840  460  96I\n",
      "6    22  Ti   47  2.5  11.627  1.75000  0.25000  2.80  0.60  1200  400  96I\n",
      "8    22  Ti   49  3.5  10.939  4.00000  0.80000  3.00  0.50   810  240  96I\n",
      "11   23   V   51  3.5   7.311  4.00000  0.60000  7.10  1.50  1500  300  96I\n",
      "..   ..  ..  ...  ...     ...      ...      ...   ...   ...   ...  ...  ...\n",
      "263  93  Np  238  2.0   6.217  0.00041  0.00010  0.00  0.00     -    -  99M\n",
      "270  95  Am  241  2.5   5.538  0.00058  0.00004  0.88  0.06    46    3  97I\n",
      "271  95  Am  242  5.0   6.364  0.00027  0.00003  1.32  0.15     -    -  04I\n",
      "272  95  Am  243  2.5   5.367  0.00073  0.00006  0.98  0.06    39    3  97I\n",
      "280  97  Bk  249  3.5   4.970  0.00110  0.00010  1.20  0.20    36    3  97I\n",
      "\n",
      "[184 rows x 12 columns]\n",
      "0.8834516176075087\n"
     ]
    }
   ],
   "source": [
    "# Odd-Odd / Odd-Even / Even-Odd\n",
    "o2filter = signal[signal['Z'] % 2 != 0] # Selecting Odd-X data\n",
    "ofilter = signal[signal['A'] % 2 != 0] # Selecting X-Odd data\n",
    "ofilter = ofilter.append(o2filter)\n",
    "print(ofilter)\n",
    "\n",
    "x = ofilter[['Z','A']]\n",
    "y = ofilter[['D0']] # Reshaping data\n",
    "arr_x = x.values.reshape(-1,2)\n",
    "arr_y = y.values.ravel()\n",
    "\n",
    "X_train, X_test, y_train, y_test = train_test_split(arr_x, arr_y, test_size=0.2, random_state=11) # Splitting data into 80% training and 20% testing\n",
    "\n",
    "rfo = RandomForestRegressor(n_estimators=500,max_depth=50,random_state=10,max_features=2) # Building RF\n",
    "rfo.fit(X_train,y_train)\n",
    "print(rfo.score(X_train,y_train))\n",
    "\n",
    "y_pred = rfo.predict(X_test)\n",
    "\n",
    "rf_err = abs(fci.random_forest_error(rfo,X_train,X_test,calibrate=False)) # RF Errors\n",
    "y_pred = rfo.predict(X_test)\n",
    "\n",
    "o2_data = test_data[test_data['Z'] % 2 != 0] # Unknown Data from Odd-X\n",
    "o_data = test_data[test_data['A'] % 2 != 0] # Unknown Data from X-Odd\n",
    "o_data = o_data.append(o2_data) # Joining the two lists\n",
    "o_data = o_data.values.reshape(-1,2)\n",
    "yo_pred = rfo.predict(o_data) # Uknown data predicitons\n",
    "rfo_err = abs(fci.random_forest_error(rfo,ofilter,o_data,calibrate=False)) # Unknown data errors\n",
    "\n"
   ]
  },
  {
   "cell_type": "code",
   "execution_count": 23,
   "metadata": {},
   "outputs": [],
   "source": [
    "o2_data = test_data[test_data['Z'] % 2 != 0]\n",
    "o_data = test_data[test_data['A'] % 2 != 0]\n",
    "o_data = o_data.append(o2_data)\n",
    "o_data = o_data.values.reshape(-1,2)"
   ]
  },
  {
   "cell_type": "code",
   "execution_count": 25,
   "metadata": {},
   "outputs": [
    {
     "data": {
      "image/png": "[encoded data removed]",
      "text/plain": [
       "<Figure size 432x288 with 1 Axes>"
      ]
     },
     "metadata": {
      "needs_background": "light"
     },
     "output_type": "display_data"
    }
   ],
   "source": [
    "# Plotting\n",
    "\n",
    "plt.errorbar(ofilter['Z'],ofilter['D0'],yerr=ofilter['dD'],fmt='o',markersize=3, color='red',label='NNDC Data')\n",
    "#plt.errorbar(X_test[:,0],y_pred,yerr=np.sqrt(rf_err),fmt='o',markersize=3, color='blue',label='Test Prediction')\n",
    "plt.errorbar(o_data[:,0],yo_pred,yerr=np.sqrt(rfo_err),fmt='o',markersize=3, color='black',label='ML Prediction')\n",
    "\n",
    "#plt.fill_between(X_test[:,0], y_pred - np.sqrt(rf_err), y_pred + np.sqrt(rf_err), alpha=0.5, edgecolor='#1B2ACC', facecolor='#089FFF',label='ML Error')\n",
    "#plt.scatter(X_test[:,0],y_pred,s=3,label='ML Prediction')\n",
    "\n",
    "#plt.xlim(21,41)\n",
    "#plt.ylim(-5,80)\n",
    "\n",
    "plt.legend()\n",
    "plt.xlabel(\"Z\")\n",
    "plt.ylabel(\"D0 (keV)\")\n",
    "plt.show()"
   ]
  },
  {
   "cell_type": "code",
   "execution_count": null,
   "metadata": {},
   "outputs": [],
   "source": []
  }
 ],
 "metadata": {
  "interpreter": {
   "hash": "2ac76aed366666d06b2dbc895d6cbcaff40415eb429273b629a6c397735c7c04"
  },
  "kernelspec": {
   "display_name": "Python 3 (ipykernel)",
   "language": "python",
   "name": "python3"
  },
  "language_info": {
   "codemirror_mode": {
    "name": "ipython",
    "version": 3
   },
   "file_extension": ".py",
   "mimetype": "text/x-python",
   "name": "python",
   "nbconvert_exporter": "python",
   "pygments_lexer": "ipython3",
   "version": "3.8.8"
  }
 },
 "nbformat": 4,
 "nbformat_minor": 2
}
