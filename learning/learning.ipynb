{
 "cells": [
  {
   "cell_type": "code",
   "execution_count": 1,
   "metadata": {},
   "outputs": [
    {
     "name": "stderr",
     "output_type": "stream",
     "text": [
      "Failed to import duecredit due to No module named 'duecredit'\n"
     ]
    }
   ],
   "source": [
    "import collections\n",
    "import pandas as pd\n",
    "import numpy as np\n",
    "import seaborn as sns\n",
    "import matplotlib.font_manager\n",
    "from scipy.stats import ks_2samp\n",
    "import matplotlib.pyplot as plt\n",
    "from sklearn.utils import shuffle\n",
    "from sklearn.model_selection import train_test_split\n",
    "from sklearn.linear_model import LinearRegression\n",
    "from sklearn.ensemble import RandomForestRegressor\n",
    "from sklearn.metrics import mean_squared_error\n",
    "import forestci as fci\n"
   ]
  },
  {
   "cell_type": "code",
   "execution_count": 2,
   "metadata": {},
   "outputs": [],
   "source": [
    "signal = pd.read_csv(\"resonances0.txt\", delim_whitespace=True)\n",
    "val_data = pd.read_csv(\"comp.txt\", delim_whitespace=True)"
   ]
  },
  {
   "cell_type": "code",
   "execution_count": 32,
   "metadata": {},
   "outputs": [
    {
     "data": {
      "text/plain": [
       "((283, 12),\n",
       "     Z  El   A   Io      Bn    D0   dD   S0   dS    Gg   dG Com.\n",
       " 0  20  Ca  40  0.0   8.363  45.0  4.0  2.7  0.7  1500  900  06M\n",
       " 1  20  Ca  42  0.0   7.933  20.0  5.0  2.5  0.5  1100  200  96I\n",
       " 2  20  Ca  43  3.5  11.131   1.8  0.3  3.6  0.6   750   40  96I\n",
       " 3  20  Ca  44  0.0   7.415  24.1  3.2  2.4  0.5  1300  400  96I\n",
       " 4  21  Sc  45  3.5   8.761   1.3  0.1  4.4  0.6   840  460  96I)"
      ]
     },
     "execution_count": 32,
     "metadata": {},
     "output_type": "execute_result"
    }
   ],
   "source": [
    "signal.shape, signal.head()"
   ]
  },
  {
   "cell_type": "code",
   "execution_count": 4,
   "metadata": {},
   "outputs": [],
   "source": [
    "x = signal[['Z','A']]\n",
    "y = signal[['D0','dD']]\n",
    "arr_x = x.values.reshape(-1,2)\n",
    "arr_y = y.values.reshape(-1,2)\n",
    "arr_y_pred, arr_y_err = np.hsplit(arr_y,2)\n",
    "arr_y_err = arr_y_err.ravel()\n",
    "arr_y_pred = arr_y_pred.ravel()"
   ]
  },
  {
   "cell_type": "code",
   "execution_count": 5,
   "metadata": {},
   "outputs": [],
   "source": [
    "a_inc = signal[['A']] + 1\n",
    "arr_a_inc = a_inc.values.reshape(-1,1)\n",
    "arr_a_inc = arr_a_inc.ravel()"
   ]
  },
  {
   "cell_type": "code",
   "execution_count": 6,
   "metadata": {},
   "outputs": [],
   "source": [
    "X_train, X_test, y_train, y_test = train_test_split(arr_x, arr_y, test_size=0.2, random_state=11)\n",
    "\n",
    "X_train_inc = pd.DataFrame(X_train, columns=['Z','A'])\n",
    "X_train_inc['A'] = X_train_inc['A'] + 1\n",
    "arr_X_train_inc = X_train_inc.values.reshape(-1,2)\n",
    "\n",
    "X_test_inc = pd.DataFrame(X_test, columns=['Z','A'])\n",
    "X_test_inc['A'] = X_test_inc['A'] + 1\n",
    "arr_X_test_inc = X_test_inc.values.reshape(-1,2)\n",
    "\n",
    "y_train, y_train_dd = np.hsplit(y_train,2)\n",
    "y_test, y_test_dd = np.hsplit(y_test,2)\n",
    "\n",
    "y_train = y_train.ravel() \n",
    "y_test = y_test.ravel()\n",
    "y_test_dd = y_test_dd.ravel()"
   ]
  },
  {
   "cell_type": "code",
   "execution_count": 7,
   "metadata": {},
   "outputs": [],
   "source": [
    "rf = RandomForestRegressor(n_estimators=500,max_depth=50,random_state=10,max_features=2)\n",
    "rf.fit(X_train,y_train)\n",
    "score = rf.score(X_train,y_train)\n",
    "y_pred = rf.predict(X_test)\n",
    "rf_err = abs(fci.random_forest_error(rf,X_train,X_test,calibrate=False))\n",
    "mse = mean_squared_error(y_test, y_pred)"
   ]
  },
  {
   "cell_type": "code",
   "execution_count": 8,
   "metadata": {},
   "outputs": [],
   "source": [
    "test_data = pd.read_csv(\"test.txt\", delim_whitespace=True)\n",
    "test_data = test_data[['Z','A']]\n",
    "arr_test_data = test_data.values.reshape(-1,2)\n",
    "test_data_inc = test_data[['A']]+1\n",
    "arr_test_data_inc = test_data_inc.values.reshape(-1,1)\n",
    "arr_test_data_inc = arr_test_data_inc.ravel()"
   ]
  },
  {
   "cell_type": "code",
   "execution_count": 9,
   "metadata": {},
   "outputs": [],
   "source": [
    "# test_data = pd.read_csv(\"res_general.txt\", delim_whitespace=True)\n",
    "# test_data = test_data[['Z','A']]\n",
    "\n",
    "# res = rf.predict(X_test)\n",
    "# rf_err = abs(fci.random_forest_error(rf,X_train,X_test,calibrate=False))\n",
    "# print(test_data)"
   ]
  },
  {
   "cell_type": "code",
   "execution_count": 43,
   "metadata": {},
   "outputs": [
    {
     "data": {
      "image/png": "[encoded data removed]",
      "text/plain": [
       "<Figure size 432x288 with 1 Axes>"
      ]
     },
     "metadata": {
      "needs_background": "light"
     },
     "output_type": "display_data"
    }
   ],
   "source": [
    "plt.errorbar(signal['A'],signal['D0'],yerr=signal['dD'],fmt='o',markersize=3, color='red',label='NNDC Data')\n",
    "# plt.fill_between(signal['Z'], y_pred - np.sqrt(rf_err), y_pred + np.sqrt(rf_err), alpha=0.5, edgecolor='#1B2ACC', facecolor='#089FFF',label='ML Error')\n",
    "plt.errorbar(X_test[:,1],y_pred,yerr=np.sqrt(rf_err),fmt='o',markersize=3, color='black',label='ML Prediction')\n",
    "#plt.errorbar(val_data['Z'],val_data['D0'],yerr=val_data['dD'],fmt='o',markersize=3, color='Green',label='Comparison Data')\n",
    "\n",
    "plt.xlim(50,60)\n",
    "# plt.ylim(0,10)\n",
    "\n",
    "plt.legend()\n",
    "plt.xlabel(\"A\")\n",
    "plt.ylabel(\"$D_0$ (keV)\")\n",
    "plt.show()"
   ]
  },
  {
   "cell_type": "code",
   "execution_count": 11,
   "metadata": {},
   "outputs": [],
   "source": [
    "# total_errs = [np.sqrt(rf_err[i] + float(y_test_dd[i])**2) for i in np.arange(len(X_test))]\n",
    "ratio = [round(y_pred[i] / y_test[i],4) for i in np.arange(len(y_pred))]\n",
    "ratio_err = [round(ratio[i]*np.sqrt((rf_err[i] / (y_pred[i])**2) + (float(y_test_dd[i]) / y_test[i])**2),4) for i in np.arange(len(y_pred))]"
   ]
  },
  {
   "cell_type": "code",
   "execution_count": 12,
   "metadata": {},
   "outputs": [],
   "source": [
    "with open(\"data.txt\",\"w\") as f:\n",
    "    f.write('# Basic Learning Model - Validating Test Case - Score: {0} - MSE: {1} \\n'.format(round(score,4),round(mse,4)))\n",
    "    f.write('#Z   A   D0   dD   mlD0   mldD   mlD0/D0   d(mlD0/D0) \\n')\n",
    "    for i in range(0, len(y_pred)):\n",
    "        f.write(\"{0}   {1}   {2}   {3}   {4}   {5}   {6}   {7}\\n\".format(arr_X_test_inc[i,0],arr_X_test_inc[i,1],y_test[i],y_test_dd[i],round(y_pred[i],4),round(np.sqrt(rf_err[i]),4),ratio[i],ratio_err[i]))"
   ]
  },
  {
   "cell_type": "code",
   "execution_count": 13,
   "metadata": {},
   "outputs": [],
   "source": [
    "rf.fit(arr_x,arr_y_pred)\n",
    "test_score = rf.score(arr_x,arr_y_pred)\n",
    "y_pred_test = rf.predict(test_data)\n",
    "rf_err_test = abs(fci.random_forest_error(rf,arr_x,test_data,calibrate=False))"
   ]
  },
  {
   "cell_type": "code",
   "execution_count": 14,
   "metadata": {},
   "outputs": [],
   "source": [
    "d0 = pd.read_csv(\"d0_talys_data.txt\", delim_whitespace=True)\n",
    "d0 = d0[['ldmodel1','ldmodel5','ldmodel6']]\n",
    "d0 = d0.values.reshape(-1,3)\n",
    "\n",
    "ld1ratio = [round(y_pred_test[i] / d0[i,0]*1000,4) for i in np.arange(len(y_pred_test))]\n",
    "ld5ratio = [round(y_pred_test[i] / d0[i,1]*1000,4) for i in np.arange(len(y_pred_test))]\n",
    "ld6ratio = [round(y_pred_test[i] / d0[i,2]*1000,4) for i in np.arange(len(y_pred_test))]"
   ]
  },
  {
   "cell_type": "code",
   "execution_count": 15,
   "metadata": {},
   "outputs": [],
   "source": [
    "with open(\"data_test.txt\",\"w\") as f:\n",
    "    f.write('# Basic Learning Model - Calculating unknown test case - Score:{0} \\n'.format(round(test_score,4)))\n",
    "    f.write('#Z   A   mlD0   mlDd   ldratio1   ldratio5   ldratio6\\n')\n",
    "    for i in range(0, len(y_pred_test)):\n",
    "        f.write(\"{0}   {1}   {2}   {3}   {4}   {5}   {6}\\n\".format(arr_test_data[i,0],arr_test_data_inc[i],round(y_pred_test[i],4),round(np.sqrt(rf_err_test[i]),4),ld1ratio[i],ld5ratio[i],ld6ratio[i]))"
   ]
  },
  {
   "cell_type": "code",
   "execution_count": 16,
   "metadata": {},
   "outputs": [],
   "source": [
    "with open(\"data_inc_d0.txt\",\"w\") as f:\n",
    "#     f.write('# Basic Learning Model - Calculating unknown test case - Score:{0} \\n'.format(round(test_score,4)))\n",
    "#     f.write('#Z   A   mlD0   mlDd   ldratio1   ldratio5   ldratio6\\n')\n",
    "    for i in range(0, len(arr_y_pred)):\n",
    "        f.write(\"{0}      {1}      {2} \\n\".format(arr_a_inc[i],arr_y_pred[i],arr_y_err[i]))"
   ]
  },
  {
   "cell_type": "code",
   "execution_count": 44,
   "metadata": {},
   "outputs": [
    {
     "data": {
      "text/plain": [
       "array([24.2664])"
      ]
     },
     "execution_count": 44,
     "metadata": {},
     "output_type": "execute_result"
    }
   ],
   "source": [
    "rf.predict([[25,54]])"
   ]
  },
  {
   "cell_type": "code",
   "execution_count": 42,
   "metadata": {},
   "outputs": [
    {
     "data": {
      "text/plain": [
       "array([[ 38,  88],\n",
       "       [ 28,  62],\n",
       "       [ 36,  85],\n",
       "       [ 72, 178],\n",
       "       [ 52, 126],\n",
       "       [ 70, 177],\n",
       "       [ 74, 181],\n",
       "       [ 93, 239],\n",
       "       [ 77, 192],\n",
       "       [ 48, 115],\n",
       "       [ 62, 150],\n",
       "       [ 78, 193],\n",
       "       [ 92, 233],\n",
       "       [ 74, 187],\n",
       "       [ 43, 100],\n",
       "       [ 54, 130],\n",
       "       [ 72, 177],\n",
       "       [ 23,  52],\n",
       "       [ 36,  81],\n",
       "       [ 60, 143],\n",
       "       [ 54, 133],\n",
       "       [ 38,  89],\n",
       "       [ 76, 187],\n",
       "       [ 36,  84],\n",
       "       [ 41,  94],\n",
       "       [ 60, 148],\n",
       "       [ 24,  51],\n",
       "       [ 36,  87],\n",
       "       [ 73, 182],\n",
       "       [ 56, 135],\n",
       "       [ 48, 114],\n",
       "       [ 20,  44],\n",
       "       [ 80, 199],\n",
       "       [ 56, 139],\n",
       "       [ 50, 113],\n",
       "       [ 64, 159],\n",
       "       [ 50, 115],\n",
       "       [ 90, 233],\n",
       "       [ 28,  59],\n",
       "       [ 51, 124],\n",
       "       [ 52, 125],\n",
       "       [ 25,  56],\n",
       "       [ 20,  45],\n",
       "       [ 90, 230],\n",
       "       [ 71, 177],\n",
       "       [ 64, 154],\n",
       "       [ 28,  63],\n",
       "       [ 98, 253],\n",
       "       [ 39,  90],\n",
       "       [ 63, 153],\n",
       "       [ 92, 235],\n",
       "       [ 36,  79],\n",
       "       [ 31,  72],\n",
       "       [ 50, 121],\n",
       "       [ 24,  54],\n",
       "       [ 24,  53],\n",
       "       [ 82, 208]], dtype=int64)"
      ]
     },
     "execution_count": 42,
     "metadata": {},
     "output_type": "execute_result"
    }
   ],
   "source": [
    "X_test"
   ]
  },
  {
   "cell_type": "code",
   "execution_count": 38,
   "metadata": {},
   "outputs": [
    {
     "data": {
      "text/plain": [
       "array([4.38126931e+01, 7.92730883e+00, 1.81341358e+00, 1.23049871e+00,\n",
       "       7.80824415e-01, 1.14084158e+00, 1.24250482e+00, 1.26621669e+00,\n",
       "       1.25402037e+00, 1.17768204e+00, 1.25334729e+00, 1.21889478e+00,\n",
       "       1.26924356e+00, 1.20078006e+00, 1.22095330e+00, 1.09000916e+00,\n",
       "       1.25575941e+00, 5.78542396e+01, 6.93211173e-01, 7.75090970e-01,\n",
       "       3.48667437e-01, 1.82130477e+01, 1.24356093e+00, 2.20487745e+00,\n",
       "       1.11901304e+00, 1.16523756e+00, 5.96804415e+00, 5.41788824e+01,\n",
       "       1.26350637e+00, 1.13994613e+00, 1.15709126e+00, 3.40614552e+01,\n",
       "       1.20850136e+00, 4.02874165e+01, 1.18737849e+00, 1.22403060e+00,\n",
       "       1.14410278e+00, 1.25110487e+00, 1.25339921e+01, 9.06956978e-01,\n",
       "       8.04911406e-01, 8.44759569e+01, 1.77421528e+01, 1.26642797e+00,\n",
       "       1.29068297e+00, 1.25782979e+00, 1.47587872e+01, 1.26232968e+00,\n",
       "       1.06732736e+01, 1.26938084e+00, 1.27291404e+00, 1.14443006e+00,\n",
       "       4.90714768e-01, 4.51305758e-01, 2.02294922e+01, 5.95420753e+01,\n",
       "       4.99127521e+02])"
      ]
     },
     "execution_count": 38,
     "metadata": {},
     "output_type": "execute_result"
    }
   ],
   "source": [
    "abs(fci.random_forest_error(rf,arr_x,X_test,calibrate=False))"
   ]
  },
  {
   "cell_type": "code",
   "execution_count": 36,
   "metadata": {},
   "outputs": [
    {
     "ename": "KeyError",
     "evalue": "\"None of [Int64Index([10], dtype='int64')] are in the [columns]\"",
     "output_type": "error",
     "traceback": [
      "\u001b[1;31m---------------------------------------------------------------------------\u001b[0m",
      "\u001b[1;31mKeyError\u001b[0m                                  Traceback (most recent call last)",
      "\u001b[1;32m~\\AppData\\Local\\Temp/ipykernel_6820/1773528213.py\u001b[0m in \u001b[0;36m<module>\u001b[1;34m\u001b[0m\n\u001b[1;32m----> 1\u001b[1;33m \u001b[0mx\u001b[0m\u001b[1;33m[\u001b[0m\u001b[1;33m[\u001b[0m\u001b[1;36m10\u001b[0m\u001b[1;33m]\u001b[0m\u001b[1;33m]\u001b[0m\u001b[1;33m\u001b[0m\u001b[1;33m\u001b[0m\u001b[0m\n\u001b[0m",
      "\u001b[1;32m~\\anaconda3\\lib\\site-packages\\pandas\\core\\frame.py\u001b[0m in \u001b[0;36m__getitem__\u001b[1;34m(self, key)\u001b[0m\n\u001b[0;32m   3459\u001b[0m             \u001b[1;32mif\u001b[0m \u001b[0mis_iterator\u001b[0m\u001b[1;33m(\u001b[0m\u001b[0mkey\u001b[0m\u001b[1;33m)\u001b[0m\u001b[1;33m:\u001b[0m\u001b[1;33m\u001b[0m\u001b[1;33m\u001b[0m\u001b[0m\n\u001b[0;32m   3460\u001b[0m                 \u001b[0mkey\u001b[0m \u001b[1;33m=\u001b[0m \u001b[0mlist\u001b[0m\u001b[1;33m(\u001b[0m\u001b[0mkey\u001b[0m\u001b[1;33m)\u001b[0m\u001b[1;33m\u001b[0m\u001b[1;33m\u001b[0m\u001b[0m\n\u001b[1;32m-> 3461\u001b[1;33m             \u001b[0mindexer\u001b[0m \u001b[1;33m=\u001b[0m \u001b[0mself\u001b[0m\u001b[1;33m.\u001b[0m\u001b[0mloc\u001b[0m\u001b[1;33m.\u001b[0m\u001b[0m_get_listlike_indexer\u001b[0m\u001b[1;33m(\u001b[0m\u001b[0mkey\u001b[0m\u001b[1;33m,\u001b[0m \u001b[0maxis\u001b[0m\u001b[1;33m=\u001b[0m\u001b[1;36m1\u001b[0m\u001b[1;33m)\u001b[0m\u001b[1;33m[\u001b[0m\u001b[1;36m1\u001b[0m\u001b[1;33m]\u001b[0m\u001b[1;33m\u001b[0m\u001b[1;33m\u001b[0m\u001b[0m\n\u001b[0m\u001b[0;32m   3462\u001b[0m \u001b[1;33m\u001b[0m\u001b[0m\n\u001b[0;32m   3463\u001b[0m         \u001b[1;31m# take() does not accept boolean indexers\u001b[0m\u001b[1;33m\u001b[0m\u001b[1;33m\u001b[0m\u001b[1;33m\u001b[0m\u001b[0m\n",
      "\u001b[1;32m~\\anaconda3\\lib\\site-packages\\pandas\\core\\indexing.py\u001b[0m in \u001b[0;36m_get_listlike_indexer\u001b[1;34m(self, key, axis)\u001b[0m\n\u001b[0;32m   1312\u001b[0m             \u001b[0mkeyarr\u001b[0m\u001b[1;33m,\u001b[0m \u001b[0mindexer\u001b[0m\u001b[1;33m,\u001b[0m \u001b[0mnew_indexer\u001b[0m \u001b[1;33m=\u001b[0m \u001b[0max\u001b[0m\u001b[1;33m.\u001b[0m\u001b[0m_reindex_non_unique\u001b[0m\u001b[1;33m(\u001b[0m\u001b[0mkeyarr\u001b[0m\u001b[1;33m)\u001b[0m\u001b[1;33m\u001b[0m\u001b[1;33m\u001b[0m\u001b[0m\n\u001b[0;32m   1313\u001b[0m \u001b[1;33m\u001b[0m\u001b[0m\n\u001b[1;32m-> 1314\u001b[1;33m         \u001b[0mself\u001b[0m\u001b[1;33m.\u001b[0m\u001b[0m_validate_read_indexer\u001b[0m\u001b[1;33m(\u001b[0m\u001b[0mkeyarr\u001b[0m\u001b[1;33m,\u001b[0m \u001b[0mindexer\u001b[0m\u001b[1;33m,\u001b[0m \u001b[0maxis\u001b[0m\u001b[1;33m)\u001b[0m\u001b[1;33m\u001b[0m\u001b[1;33m\u001b[0m\u001b[0m\n\u001b[0m\u001b[0;32m   1315\u001b[0m \u001b[1;33m\u001b[0m\u001b[0m\n\u001b[0;32m   1316\u001b[0m         if needs_i8_conversion(ax.dtype) or isinstance(\n",
      "\u001b[1;32m~\\anaconda3\\lib\\site-packages\\pandas\\core\\indexing.py\u001b[0m in \u001b[0;36m_validate_read_indexer\u001b[1;34m(self, key, indexer, axis)\u001b[0m\n\u001b[0;32m   1372\u001b[0m                 \u001b[1;32mif\u001b[0m \u001b[0muse_interval_msg\u001b[0m\u001b[1;33m:\u001b[0m\u001b[1;33m\u001b[0m\u001b[1;33m\u001b[0m\u001b[0m\n\u001b[0;32m   1373\u001b[0m                     \u001b[0mkey\u001b[0m \u001b[1;33m=\u001b[0m \u001b[0mlist\u001b[0m\u001b[1;33m(\u001b[0m\u001b[0mkey\u001b[0m\u001b[1;33m)\u001b[0m\u001b[1;33m\u001b[0m\u001b[1;33m\u001b[0m\u001b[0m\n\u001b[1;32m-> 1374\u001b[1;33m                 \u001b[1;32mraise\u001b[0m \u001b[0mKeyError\u001b[0m\u001b[1;33m(\u001b[0m\u001b[1;34mf\"None of [{key}] are in the [{axis_name}]\"\u001b[0m\u001b[1;33m)\u001b[0m\u001b[1;33m\u001b[0m\u001b[1;33m\u001b[0m\u001b[0m\n\u001b[0m\u001b[0;32m   1375\u001b[0m \u001b[1;33m\u001b[0m\u001b[0m\n\u001b[0;32m   1376\u001b[0m             \u001b[0mnot_found\u001b[0m \u001b[1;33m=\u001b[0m \u001b[0mlist\u001b[0m\u001b[1;33m(\u001b[0m\u001b[0mensure_index\u001b[0m\u001b[1;33m(\u001b[0m\u001b[0mkey\u001b[0m\u001b[1;33m)\u001b[0m\u001b[1;33m[\u001b[0m\u001b[0mmissing_mask\u001b[0m\u001b[1;33m.\u001b[0m\u001b[0mnonzero\u001b[0m\u001b[1;33m(\u001b[0m\u001b[1;33m)\u001b[0m\u001b[1;33m[\u001b[0m\u001b[1;36m0\u001b[0m\u001b[1;33m]\u001b[0m\u001b[1;33m]\u001b[0m\u001b[1;33m.\u001b[0m\u001b[0munique\u001b[0m\u001b[1;33m(\u001b[0m\u001b[1;33m)\u001b[0m\u001b[1;33m)\u001b[0m\u001b[1;33m\u001b[0m\u001b[1;33m\u001b[0m\u001b[0m\n",
      "\u001b[1;31mKeyError\u001b[0m: \"None of [Int64Index([10], dtype='int64')] are in the [columns]\""
     ]
    }
   ],
   "source": []
  },
  {
   "cell_type": "code",
   "execution_count": 37,
   "metadata": {},
   "outputs": [
    {
     "data": {
      "text/plain": [
       "array([[ 20,  40],\n",
       "       [ 20,  42],\n",
       "       [ 20,  43],\n",
       "       [ 20,  44],\n",
       "       [ 21,  45],\n",
       "       [ 22,  46],\n",
       "       [ 22,  47],\n",
       "       [ 22,  48],\n",
       "       [ 22,  49],\n",
       "       [ 22,  50],\n",
       "       [ 23,  50],\n",
       "       [ 23,  51],\n",
       "       [ 24,  50],\n",
       "       [ 24,  52],\n",
       "       [ 24,  53],\n",
       "       [ 24,  54],\n",
       "       [ 25,  55],\n",
       "       [ 26,  54],\n",
       "       [ 26,  56],\n",
       "       [ 26,  57],\n",
       "       [ 26,  58],\n",
       "       [ 27,  59],\n",
       "       [ 28,  58],\n",
       "       [ 28,  59],\n",
       "       [ 28,  60],\n",
       "       [ 28,  61],\n",
       "       [ 28,  62],\n",
       "       [ 28,  64],\n",
       "       [ 29,  63],\n",
       "       [ 29,  65],\n",
       "       [ 30,  64],\n",
       "       [ 30,  66],\n",
       "       [ 30,  67],\n",
       "       [ 30,  68],\n",
       "       [ 30,  70],\n",
       "       [ 31,  69],\n",
       "       [ 31,  71],\n",
       "       [ 32,  70],\n",
       "       [ 32,  72],\n",
       "       [ 32,  73],\n",
       "       [ 32,  74],\n",
       "       [ 32,  76],\n",
       "       [ 33,  75],\n",
       "       [ 34,  74],\n",
       "       [ 34,  76],\n",
       "       [ 34,  77],\n",
       "       [ 34,  78],\n",
       "       [ 34,  80],\n",
       "       [ 34,  82],\n",
       "       [ 35,  79],\n",
       "       [ 35,  81],\n",
       "       [ 36,  78],\n",
       "       [ 36,  80],\n",
       "       [ 36,  83],\n",
       "       [ 36,  84],\n",
       "       [ 36,  86],\n",
       "       [ 37,  85],\n",
       "       [ 37,  87],\n",
       "       [ 38,  84],\n",
       "       [ 38,  86],\n",
       "       [ 38,  87],\n",
       "       [ 38,  88],\n",
       "       [ 39,  89],\n",
       "       [ 40,  90],\n",
       "       [ 40,  91],\n",
       "       [ 40,  92],\n",
       "       [ 40,  93],\n",
       "       [ 40,  94],\n",
       "       [ 40,  96],\n",
       "       [ 41,  93],\n",
       "       [ 42,  92],\n",
       "       [ 42,  94],\n",
       "       [ 42,  95],\n",
       "       [ 42,  96],\n",
       "       [ 42,  97],\n",
       "       [ 42,  98],\n",
       "       [ 42, 100],\n",
       "       [ 43,  99],\n",
       "       [ 44,  99],\n",
       "       [ 44, 100],\n",
       "       [ 44, 101],\n",
       "       [ 44, 102],\n",
       "       [ 44, 104],\n",
       "       [ 45, 103],\n",
       "       [ 46, 104],\n",
       "       [ 46, 105],\n",
       "       [ 46, 106],\n",
       "       [ 46, 107],\n",
       "       [ 46, 108],\n",
       "       [ 46, 110],\n",
       "       [ 47, 107],\n",
       "       [ 47, 109],\n",
       "       [ 48, 106],\n",
       "       [ 48, 108],\n",
       "       [ 48, 110],\n",
       "       [ 48, 111],\n",
       "       [ 48, 112],\n",
       "       [ 48, 113],\n",
       "       [ 48, 114],\n",
       "       [ 48, 116],\n",
       "       [ 49, 113],\n",
       "       [ 49, 115],\n",
       "       [ 50, 112],\n",
       "       [ 50, 114],\n",
       "       [ 50, 116],\n",
       "       [ 50, 117],\n",
       "       [ 50, 118],\n",
       "       [ 50, 119],\n",
       "       [ 50, 120],\n",
       "       [ 50, 122],\n",
       "       [ 50, 124],\n",
       "       [ 51, 121],\n",
       "       [ 51, 123],\n",
       "       [ 52, 122],\n",
       "       [ 52, 123],\n",
       "       [ 52, 124],\n",
       "       [ 52, 125],\n",
       "       [ 52, 126],\n",
       "       [ 52, 128],\n",
       "       [ 52, 130],\n",
       "       [ 53, 127],\n",
       "       [ 53, 129],\n",
       "       [ 54, 128],\n",
       "       [ 54, 129],\n",
       "       [ 54, 130],\n",
       "       [ 54, 131],\n",
       "       [ 54, 132],\n",
       "       [ 54, 134],\n",
       "       [ 54, 136],\n",
       "       [ 55, 133],\n",
       "       [ 55, 134],\n",
       "       [ 55, 135],\n",
       "       [ 56, 130],\n",
       "       [ 56, 132],\n",
       "       [ 56, 133],\n",
       "       [ 56, 134],\n",
       "       [ 56, 135],\n",
       "       [ 56, 136],\n",
       "       [ 56, 137],\n",
       "       [ 56, 138],\n",
       "       [ 57, 138],\n",
       "       [ 57, 139],\n",
       "       [ 58, 136],\n",
       "       [ 58, 140],\n",
       "       [ 58, 141],\n",
       "       [ 58, 142],\n",
       "       [ 59, 141],\n",
       "       [ 60, 142],\n",
       "       [ 60, 143],\n",
       "       [ 60, 144],\n",
       "       [ 60, 145],\n",
       "       [ 60, 146],\n",
       "       [ 60, 147],\n",
       "       [ 60, 148],\n",
       "       [ 60, 150],\n",
       "       [ 61, 147],\n",
       "       [ 62, 144],\n",
       "       [ 62, 147],\n",
       "       [ 62, 148],\n",
       "       [ 62, 149],\n",
       "       [ 62, 150],\n",
       "       [ 62, 151],\n",
       "       [ 62, 152],\n",
       "       [ 62, 154],\n",
       "       [ 63, 151],\n",
       "       [ 63, 152],\n",
       "       [ 63, 153],\n",
       "       [ 63, 154],\n",
       "       [ 63, 155],\n",
       "       [ 64, 152],\n",
       "       [ 64, 153],\n",
       "       [ 64, 154],\n",
       "       [ 64, 155],\n",
       "       [ 64, 156],\n",
       "       [ 64, 157],\n",
       "       [ 64, 158],\n",
       "       [ 64, 160],\n",
       "       [ 65, 159],\n",
       "       [ 66, 156],\n",
       "       [ 66, 158],\n",
       "       [ 66, 160],\n",
       "       [ 66, 161],\n",
       "       [ 66, 162],\n",
       "       [ 66, 163],\n",
       "       [ 66, 164],\n",
       "       [ 67, 165],\n",
       "       [ 68, 162],\n",
       "       [ 68, 164],\n",
       "       [ 68, 166],\n",
       "       [ 68, 167],\n",
       "       [ 68, 168],\n",
       "       [ 68, 170],\n",
       "       [ 69, 169],\n",
       "       [ 69, 170],\n",
       "       [ 70, 168],\n",
       "       [ 70, 169],\n",
       "       [ 70, 170],\n",
       "       [ 70, 171],\n",
       "       [ 70, 172],\n",
       "       [ 70, 173],\n",
       "       [ 70, 174],\n",
       "       [ 70, 176],\n",
       "       [ 71, 175],\n",
       "       [ 71, 176],\n",
       "       [ 72, 174],\n",
       "       [ 72, 176],\n",
       "       [ 72, 177],\n",
       "       [ 72, 178],\n",
       "       [ 72, 179],\n",
       "       [ 72, 180],\n",
       "       [ 73, 180],\n",
       "       [ 73, 181],\n",
       "       [ 73, 182],\n",
       "       [ 74, 180],\n",
       "       [ 74, 182],\n",
       "       [ 74, 183],\n",
       "       [ 74, 184],\n",
       "       [ 74, 186],\n",
       "       [ 75, 185],\n",
       "       [ 75, 187],\n",
       "       [ 76, 186],\n",
       "       [ 76, 187],\n",
       "       [ 76, 188],\n",
       "       [ 76, 189],\n",
       "       [ 76, 190],\n",
       "       [ 76, 192],\n",
       "       [ 77, 191],\n",
       "       [ 77, 192],\n",
       "       [ 77, 193],\n",
       "       [ 78, 192],\n",
       "       [ 78, 194],\n",
       "       [ 78, 195],\n",
       "       [ 78, 196],\n",
       "       [ 78, 198],\n",
       "       [ 79, 197],\n",
       "       [ 80, 198],\n",
       "       [ 80, 199],\n",
       "       [ 80, 200],\n",
       "       [ 80, 201],\n",
       "       [ 81, 203],\n",
       "       [ 81, 205],\n",
       "       [ 82, 204],\n",
       "       [ 82, 206],\n",
       "       [ 82, 207],\n",
       "       [ 82, 208],\n",
       "       [ 83, 209],\n",
       "       [ 88, 226],\n",
       "       [ 90, 228],\n",
       "       [ 90, 229],\n",
       "       [ 90, 230],\n",
       "       [ 90, 232],\n",
       "       [ 91, 231],\n",
       "       [ 91, 232],\n",
       "       [ 91, 233],\n",
       "       [ 92, 232],\n",
       "       [ 92, 233],\n",
       "       [ 92, 234],\n",
       "       [ 92, 235],\n",
       "       [ 92, 236],\n",
       "       [ 92, 237],\n",
       "       [ 92, 238],\n",
       "       [ 93, 236],\n",
       "       [ 93, 237],\n",
       "       [ 93, 238],\n",
       "       [ 94, 238],\n",
       "       [ 94, 239],\n",
       "       [ 94, 240],\n",
       "       [ 94, 241],\n",
       "       [ 94, 242],\n",
       "       [ 94, 244],\n",
       "       [ 95, 241],\n",
       "       [ 95, 242],\n",
       "       [ 95, 243],\n",
       "       [ 96, 242],\n",
       "       [ 96, 243],\n",
       "       [ 96, 244],\n",
       "       [ 96, 245],\n",
       "       [ 96, 246],\n",
       "       [ 96, 247],\n",
       "       [ 96, 248],\n",
       "       [ 97, 249],\n",
       "       [ 98, 249],\n",
       "       [ 98, 252]], dtype=int64)"
      ]
     },
     "execution_count": 37,
     "metadata": {},
     "output_type": "execute_result"
    }
   ],
   "source": [
    "arr_x"
   ]
  },
  {
   "cell_type": "code",
   "execution_count": null,
   "metadata": {},
   "outputs": [],
   "source": []
  }
 ],
 "metadata": {
  "interpreter": {
   "hash": "2ac76aed366666d06b2dbc895d6cbcaff40415eb429273b629a6c397735c7c04"
  },
  "kernelspec": {
   "display_name": "Python 3 (ipykernel)",
   "language": "python",
   "name": "python3"
  },
  "language_info": {
   "codemirror_mode": {
    "name": "ipython",
    "version": 3
   },
   "file_extension": ".py",
   "mimetype": "text/x-python",
   "name": "python",
   "nbconvert_exporter": "python",
   "pygments_lexer": "ipython3",
   "version": "3.8.8"
  }
 },
 "nbformat": 4,
 "nbformat_minor": 2
}
