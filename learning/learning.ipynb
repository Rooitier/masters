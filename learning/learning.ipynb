{
 "cells": [
  {
   "cell_type": "code",
   "execution_count": 1,
   "metadata": {},
   "outputs": [
    {
     "name": "stderr",
     "output_type": "stream",
     "text": [
      "Failed to import duecredit due to No module named 'duecredit'\n"
     ]
    }
   ],
   "source": [
    "import collections\n",
    "import pandas as pd\n",
    "import numpy as np\n",
    "import seaborn as sns\n",
    "import matplotlib.font_manager\n",
    "from scipy.stats import ks_2samp\n",
    "import matplotlib.pyplot as plt\n",
    "from sklearn.utils import shuffle\n",
    "from sklearn.model_selection import train_test_split\n",
    "from sklearn.linear_model import LinearRegression\n",
    "from sklearn.ensemble import RandomForestRegressor\n",
    "import forestci as fci\n"
   ]
  },
  {
   "cell_type": "code",
   "execution_count": 2,
   "metadata": {},
   "outputs": [],
   "source": [
    "signal = pd.read_csv(\"resonances0.txt\", delim_whitespace=True)\n",
    "val_data = pd.read_csv(\"comp.txt\", delim_whitespace=True)"
   ]
  },
  {
   "cell_type": "code",
   "execution_count": 3,
   "metadata": {},
   "outputs": [
    {
     "data": {
      "text/plain": [
       "((283, 12),\n",
       "     Z  El   A   Io      Bn    D0   dD   S0   dS    Gg   dG Com.\n",
       " 0  20  Ca  40  0.0   8.363  45.0  4.0  2.7  0.7  1500  900  06M\n",
       " 1  20  Ca  42  0.0   7.933  20.0  5.0  2.5  0.5  1100  200  96I\n",
       " 2  20  Ca  43  3.5  11.131   1.8  0.3  3.6  0.6   750   40  96I\n",
       " 3  20  Ca  44  0.0   7.415  24.1  3.2  2.4  0.5  1300  400  96I\n",
       " 4  21  Sc  45  3.5   8.761   1.3  0.1  4.4  0.6   840  460  96I)"
      ]
     },
     "execution_count": 3,
     "metadata": {},
     "output_type": "execute_result"
    }
   ],
   "source": [
    "signal.shape, signal.head()"
   ]
  },
  {
   "cell_type": "code",
   "execution_count": 4,
   "metadata": {},
   "outputs": [],
   "source": [
    "x = signal[['Z','A']]\n",
    "y = signal[['D0']]\n",
    "arr_x = x.values.reshape(-1,2)\n",
    "arr_y = y.values.ravel()\n"
   ]
  },
  {
   "cell_type": "code",
   "execution_count": 5,
   "metadata": {},
   "outputs": [],
   "source": [
    "X_train, X_test, y_train, y_test = train_test_split(arr_x, arr_y, test_size=0.2, random_state=11)\n",
    "\n"
   ]
  },
  {
   "cell_type": "code",
   "execution_count": 6,
   "metadata": {},
   "outputs": [
    {
     "data": {
      "text/plain": [
       "0.8692808664786701"
      ]
     },
     "execution_count": 6,
     "metadata": {},
     "output_type": "execute_result"
    }
   ],
   "source": [
    "rf = RandomForestRegressor(n_estimators=500,max_depth=500,random_state=10,max_features=2)\n",
    "rf.fit(X_train,y_train)\n",
    "rf.score(X_train,y_train)"
   ]
  },
  {
   "cell_type": "code",
   "execution_count": 7,
   "metadata": {},
   "outputs": [
    {
     "name": "stdout",
     "output_type": "stream",
     "text": [
      "[[22 44]\n",
      " [23 49]\n",
      " [25 51]\n",
      " [27 55]\n",
      " [29 57]\n",
      " [29 59]\n",
      " [29 60]\n",
      " [29 61]\n",
      " [29 63]\n",
      " [30 62]\n",
      " [30 64]\n",
      " [31 63]\n",
      " [31 65]\n",
      " [31 67]\n",
      " [33 69]\n",
      " [33 71]\n",
      " [33 73]\n",
      " [39 83]\n",
      " [39 87]\n",
      " [40 88]]\n"
     ]
    }
   ],
   "source": [
    "test_data = pd.read_csv(\"test.txt\", delim_whitespace=True)\n",
    "test_data = test_data[['Z','A']]\n",
    "test_data = test_data.values.reshape(-1,2)\n",
    "print(test_data)"
   ]
  },
  {
   "cell_type": "code",
   "execution_count": 8,
   "metadata": {},
   "outputs": [],
   "source": [
    "y_pred = rf.predict(X_test)"
   ]
  },
  {
   "cell_type": "code",
   "execution_count": 9,
   "metadata": {},
   "outputs": [],
   "source": [
    "rf_err = abs(fci.random_forest_error(rf,X_train,X_test,calibrate=False))"
   ]
  },
  {
   "cell_type": "code",
   "execution_count": 10,
   "metadata": {},
   "outputs": [],
   "source": [
    "# test_data = pd.read_csv(\"res_general.txt\", delim_whitespace=True)\n",
    "# test_data = test_data[['Z','A']]\n",
    "\n",
    "# res = rf.predict(X_test)\n",
    "# rf_err = abs(fci.random_forest_error(rf,X_train,X_test,calibrate=False))\n",
    "# print(test_data)"
   ]
  },
  {
   "cell_type": "code",
   "execution_count": 11,
   "metadata": {},
   "outputs": [
    {
     "data": {
      "image/png": "[encoded data removed]",
      "text/plain": [
       "<Figure size 432x288 with 1 Axes>"
      ]
     },
     "metadata": {
      "needs_background": "light"
     },
     "output_type": "display_data"
    }
   ],
   "source": [
    "plt.errorbar(signal['A'],signal['D0'],yerr=signal['dD'],fmt='o',markersize=3, color='red',label='NNDC Data')\n",
    "# plt.fill_between(signal['Z'], y_pred - np.sqrt(rf_err), y_pred + np.sqrt(rf_err), alpha=0.5, edgecolor='#1B2ACC', facecolor='#089FFF',label='ML Error')\n",
    "plt.errorbar(X_test[:,1],y_pred,yerr=np.sqrt(rf_err),fmt='o',markersize=3, color='black',label='ML Prediction')\n",
    "#plt.errorbar(val_data['Z'],val_data['D0'],yerr=val_data['dD'],fmt='o',markersize=3, color='Green',label='Comparison Data')\n",
    "\n",
    "# plt.xlim(48,52)\n",
    "# plt.ylim(0,10)\n",
    "\n",
    "plt.legend()\n",
    "plt.xlabel(\"A\")\n",
    "plt.ylabel(\"$D_0$ (keV)\")\n",
    "plt.show()"
   ]
  },
  {
   "cell_type": "code",
   "execution_count": 12,
   "metadata": {},
   "outputs": [
    {
     "name": "stdout",
     "output_type": "stream",
     "text": [
      "[  0.62607486   1.27739686   1.04757131   0.27332284   0.53972952\n",
      "   0.27168222   0.27319184   0.26657981   0.25547267   0.38277058\n",
      "   0.29544948   0.24199199   0.26475715   0.27745613   0.35812813\n",
      "   1.03423497   0.25221924  47.03891869   0.67636255   0.68941508\n",
      "   1.22031263   0.60299846   0.26781308   0.98670611   1.33245233\n",
      "   0.32606865  47.34376156   0.9228472    0.27966183   0.39322376\n",
      "   0.29170097  18.05201138   0.28168758   0.65161991   0.27338394\n",
      "   0.29214192   0.34525715   0.26789043  10.71147804   2.01510217\n",
      "   0.51226633  83.0939901   17.81261681   0.26709624   0.27504203\n",
      "   0.2753497   24.62058227   0.26986782   2.21610941   0.26984257\n",
      "   0.26477481   0.55980974   1.97908962   0.53623523 145.01103232\n",
      "  64.48210948 224.78422466]\n"
     ]
    }
   ],
   "source": [
    "print(rf_err)"
   ]
  },
  {
   "cell_type": "code",
   "execution_count": 13,
   "metadata": {},
   "outputs": [
    {
     "name": "stdout",
     "output_type": "stream",
     "text": [
      "[1.8959120e+00 1.1023300e+01 5.9661800e-01 4.2443000e-02 1.2871070e+00\n",
      " 1.1316440e-01 4.3100200e-02 1.0626400e-02 2.2137600e-02 1.3599320e-01\n",
      " 5.8458200e-02 5.5600400e-02 1.1779600e-03 3.1269400e-02 7.0513600e-01\n",
      " 4.3894800e-01 2.6465500e-02 8.4963000e+00 5.3176000e-01 3.8018400e-01\n",
      " 3.8551800e-01 2.1494160e+00 1.1197400e-02 1.3772400e+00 1.5193600e+00\n",
      " 1.9904980e-01 2.1167500e+01 1.5817120e+00 1.6392800e-02 8.4884000e-02\n",
      " 1.0434820e-01 2.0526200e+01 2.0483300e-01 4.9263600e-01 1.4007500e-01\n",
      " 1.8715000e-02 1.1580900e-01 4.1141800e-03 1.1241600e+01 1.7757418e+00\n",
      " 1.0754638e+00 3.8985200e+01 1.5907200e+01 6.3801600e-03 5.1575200e-02\n",
      " 1.2907620e-02 1.3316740e+01 3.5842600e-03 3.4550320e+00 4.8629400e-03\n",
      " 1.3235200e-03 3.6949400e-01 2.5506080e+00 3.0748640e-01 3.6300800e+01\n",
      " 2.2549000e+01 3.9733580e+01]\n"
     ]
    }
   ],
   "source": [
    "print(y_pred)"
   ]
  },
  {
   "cell_type": "code",
   "execution_count": 14,
   "metadata": {},
   "outputs": [
    {
     "name": "stdout",
     "output_type": "stream",
     "text": [
      "[[ 38  87]\n",
      " [ 28  61]\n",
      " [ 36  84]\n",
      " [ 72 177]\n",
      " [ 52 125]\n",
      " [ 70 176]\n",
      " [ 74 180]\n",
      " [ 93 238]\n",
      " [ 77 191]\n",
      " [ 48 114]\n",
      " [ 62 149]\n",
      " [ 78 192]\n",
      " [ 92 232]\n",
      " [ 74 186]\n",
      " [ 43  99]\n",
      " [ 54 129]\n",
      " [ 72 176]\n",
      " [ 23  51]\n",
      " [ 36  80]\n",
      " [ 60 142]\n",
      " [ 54 132]\n",
      " [ 38  88]\n",
      " [ 76 186]\n",
      " [ 36  83]\n",
      " [ 41  93]\n",
      " [ 60 147]\n",
      " [ 24  50]\n",
      " [ 36  86]\n",
      " [ 73 181]\n",
      " [ 56 134]\n",
      " [ 48 113]\n",
      " [ 20  43]\n",
      " [ 80 198]\n",
      " [ 56 138]\n",
      " [ 50 112]\n",
      " [ 64 158]\n",
      " [ 50 114]\n",
      " [ 90 232]\n",
      " [ 28  58]\n",
      " [ 51 123]\n",
      " [ 52 124]\n",
      " [ 25  55]\n",
      " [ 20  44]\n",
      " [ 90 229]\n",
      " [ 71 176]\n",
      " [ 64 153]\n",
      " [ 28  62]\n",
      " [ 98 252]\n",
      " [ 39  89]\n",
      " [ 63 152]\n",
      " [ 92 234]\n",
      " [ 36  78]\n",
      " [ 31  71]\n",
      " [ 50 120]\n",
      " [ 24  53]\n",
      " [ 24  52]\n",
      " [ 82 207]]\n"
     ]
    }
   ],
   "source": [
    "print(X_test)"
   ]
  },
  {
   "cell_type": "code",
   "execution_count": 15,
   "metadata": {},
   "outputs": [],
   "source": [
    "with open(\"data.txt\",\"w\") as f:\n",
    "    # f.write(' Z=  22 A=  46\\n')\n",
    "    # f.write('  U[MeV]  fE1[mb/MeV]\\n')\n",
    "    for i in range(0, len(y_pred)):\n",
    "        f.write(\"{0}   {1}   {2}   {3}\\n\".format(X_test[i,0],X_test[i,1],round(y_pred[i],4),round(np.sqrt(rf_err[i]),4)))"
   ]
  },
  {
   "cell_type": "code",
   "execution_count": 16,
   "metadata": {},
   "outputs": [],
   "source": [
    "y_pred_test = rf.predict(test_data)\n",
    "rf_err_test = abs(fci.random_forest_error(rf,X_train,test_data,calibrate=False))"
   ]
  },
  {
   "cell_type": "code",
   "execution_count": 17,
   "metadata": {},
   "outputs": [],
   "source": [
    "with open(\"data_test.txt\",\"w\") as f:\n",
    "    # f.write(' Z=  22 A=  46\\n')\n",
    "    # f.write('  U[MeV]  fE1[mb/MeV]\\n')\n",
    "    for i in range(0, len(y_pred_test)):\n",
    "        f.write(\"{0}   {1}   {2}   {3}\\n\".format(test_data[i,0],test_data[i,1],round(y_pred_test[i],4),round(np.sqrt(rf_err_test[i]),4)))"
   ]
  },
  {
   "cell_type": "code",
   "execution_count": 18,
   "metadata": {},
   "outputs": [
    {
     "name": "stdout",
     "output_type": "stream",
     "text": [
      "[[22 44]\n",
      " [23 49]\n",
      " [25 51]\n",
      " [27 55]\n",
      " [29 57]\n",
      " [29 59]\n",
      " [29 60]\n",
      " [29 61]\n",
      " [29 63]\n",
      " [30 62]\n",
      " [30 64]\n",
      " [31 63]\n",
      " [31 65]\n",
      " [31 67]\n",
      " [33 69]\n",
      " [33 71]\n",
      " [33 73]\n",
      " [39 83]\n",
      " [39 87]\n",
      " [40 88]]\n"
     ]
    }
   ],
   "source": [
    "print(test_data)"
   ]
  },
  {
   "cell_type": "code",
   "execution_count": null,
   "metadata": {},
   "outputs": [],
   "source": []
  }
 ],
 "metadata": {
  "interpreter": {
   "hash": "2ac76aed366666d06b2dbc895d6cbcaff40415eb429273b629a6c397735c7c04"
  },
  "kernelspec": {
   "display_name": "Python 3 (ipykernel)",
   "language": "python",
   "name": "python3"
  },
  "language_info": {
   "codemirror_mode": {
    "name": "ipython",
    "version": 3
   },
   "file_extension": ".py",
   "mimetype": "text/x-python",
   "name": "python",
   "nbconvert_exporter": "python",
   "pygments_lexer": "ipython3",
   "version": "3.8.8"
  }
 },
 "nbformat": 4,
 "nbformat_minor": 2
}
