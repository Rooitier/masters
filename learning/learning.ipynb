{
 "cells": [
  {
   "cell_type": "code",
   "execution_count": 1,
   "metadata": {},
   "outputs": [
    {
     "name": "stderr",
     "output_type": "stream",
     "text": [
      "Failed to import duecredit due to No module named 'duecredit'\n"
     ]
    }
   ],
   "source": [
    "import collections\n",
    "import pandas as pd\n",
    "import numpy as np\n",
    "import seaborn as sns\n",
    "import matplotlib.font_manager\n",
    "from scipy.stats import ks_2samp\n",
    "import matplotlib.pyplot as plt\n",
    "from sklearn.utils import shuffle\n",
    "from sklearn.model_selection import train_test_split\n",
    "from sklearn.linear_model import LinearRegression\n",
    "from sklearn.ensemble import RandomForestRegressor\n",
    "from sklearn.metrics import mean_squared_error\n",
    "import forestci as fci\n"
   ]
  },
  {
   "cell_type": "code",
   "execution_count": 2,
   "metadata": {},
   "outputs": [],
   "source": [
    "signal = pd.read_csv(\"resonances0.txt\", delim_whitespace=True)\n",
    "val_data = pd.read_csv(\"comp.txt\", delim_whitespace=True)"
   ]
  },
  {
   "cell_type": "code",
   "execution_count": 3,
   "metadata": {},
   "outputs": [
    {
     "data": {
      "text/plain": [
       "((283, 12),\n",
       "     Z  El   A   Io      Bn    D0   dD   S0   dS    Gg   dG Com.\n",
       " 0  20  Ca  40  0.0   8.363  45.0  4.0  2.7  0.7  1500  900  06M\n",
       " 1  20  Ca  42  0.0   7.933  20.0  5.0  2.5  0.5  1100  200  96I\n",
       " 2  20  Ca  43  3.5  11.131   1.8  0.3  3.6  0.6   750   40  96I\n",
       " 3  20  Ca  44  0.0   7.415  24.1  3.2  2.4  0.5  1300  400  96I\n",
       " 4  21  Sc  45  3.5   8.761   1.3  0.1  4.4  0.6   840  460  96I)"
      ]
     },
     "execution_count": 3,
     "metadata": {},
     "output_type": "execute_result"
    }
   ],
   "source": [
    "signal.shape, signal.head()"
   ]
  },
  {
   "cell_type": "code",
   "execution_count": 4,
   "metadata": {},
   "outputs": [],
   "source": [
    "x = signal[['Z','A']]\n",
    "y = signal[['D0','dD']]\n",
    "arr_x = x.values.reshape(-1,2)\n",
    "arr_y = y.values.reshape(-1,2)\n",
    "arr_y_pred, arr_y_err = np.hsplit(arr_y,2)\n",
    "arr_y_err = arr_y_err.ravel()\n",
    "arr_y_pred = arr_y_pred.ravel()"
   ]
  },
  {
   "cell_type": "code",
   "execution_count": 18,
   "metadata": {},
   "outputs": [],
   "source": [
    "a_inc = signal[['A']] + 1\n",
    "arr_a_inc = a_inc.values.reshape(-1,1)\n",
    "arr_a_inc = arr_a_inc.ravel()"
   ]
  },
  {
   "cell_type": "code",
   "execution_count": 6,
   "metadata": {},
   "outputs": [],
   "source": [
    "X_train, X_test, y_train, y_test = train_test_split(arr_x, arr_y, test_size=0.2, random_state=11)\n",
    "\n",
    "X_train_inc = pd.DataFrame(X_train, columns=['Z','A'])\n",
    "X_train_inc['A'] = X_train_inc['A'] + 1\n",
    "arr_X_train_inc = X_train_inc.values.reshape(-1,2)\n",
    "\n",
    "X_test_inc = pd.DataFrame(X_test, columns=['Z','A'])\n",
    "X_test_inc['A'] = X_test_inc['A'] + 1\n",
    "arr_X_test_inc = X_test_inc.values.reshape(-1,2)\n",
    "\n",
    "y_train, y_train_dd = np.hsplit(y_train,2)\n",
    "y_test, y_test_dd = np.hsplit(y_test,2)\n",
    "\n",
    "y_train = y_train.ravel() \n",
    "y_test = y_test.ravel()\n",
    "y_test_dd = y_test_dd.ravel()"
   ]
  },
  {
   "cell_type": "code",
   "execution_count": 7,
   "metadata": {},
   "outputs": [],
   "source": [
    "rf = RandomForestRegressor(n_estimators=500,max_depth=50,random_state=10,max_features=2)\n",
    "rf.fit(X_train,y_train)\n",
    "score = rf.score(X_train,y_train)\n",
    "y_pred = rf.predict(X_test)\n",
    "rf_err = abs(fci.random_forest_error(rf,X_train,X_test,calibrate=False))\n",
    "mse = mean_squared_error(y_test, y_pred)"
   ]
  },
  {
   "cell_type": "code",
   "execution_count": 8,
   "metadata": {},
   "outputs": [],
   "source": [
    "test_data = pd.read_csv(\"test.txt\", delim_whitespace=True)\n",
    "test_data = test_data[['Z','A']]\n",
    "arr_test_data = test_data.values.reshape(-1,2)\n",
    "test_data_inc = test_data[['A']]+1\n",
    "arr_test_data_inc = test_data_inc.values.reshape(-1,1)\n",
    "arr_test_data_inc = arr_test_data_inc.ravel()"
   ]
  },
  {
   "cell_type": "code",
   "execution_count": 9,
   "metadata": {},
   "outputs": [],
   "source": [
    "# test_data = pd.read_csv(\"res_general.txt\", delim_whitespace=True)\n",
    "# test_data = test_data[['Z','A']]\n",
    "\n",
    "# res = rf.predict(X_test)\n",
    "# rf_err = abs(fci.random_forest_error(rf,X_train,X_test,calibrate=False))\n",
    "# print(test_data)"
   ]
  },
  {
   "cell_type": "code",
   "execution_count": 10,
   "metadata": {},
   "outputs": [
    {
     "data": {
      "image/png": "[encoded data removed]",
      "text/plain": [
       "<Figure size 432x288 with 1 Axes>"
      ]
     },
     "metadata": {
      "needs_background": "light"
     },
     "output_type": "display_data"
    }
   ],
   "source": [
    "plt.errorbar(signal['A'],signal['D0'],yerr=signal['dD'],fmt='o',markersize=3, color='red',label='NNDC Data')\n",
    "# plt.fill_between(signal['Z'], y_pred - np.sqrt(rf_err), y_pred + np.sqrt(rf_err), alpha=0.5, edgecolor='#1B2ACC', facecolor='#089FFF',label='ML Error')\n",
    "plt.errorbar(X_test[:,1],y_pred,yerr=np.sqrt(rf_err),fmt='o',markersize=3, color='black',label='ML Prediction')\n",
    "#plt.errorbar(val_data['Z'],val_data['D0'],yerr=val_data['dD'],fmt='o',markersize=3, color='Green',label='Comparison Data')\n",
    "\n",
    "# plt.xlim(48,52)\n",
    "# plt.ylim(0,10)\n",
    "\n",
    "plt.legend()\n",
    "plt.xlabel(\"A\")\n",
    "plt.ylabel(\"$D_0$ (keV)\")\n",
    "plt.show()"
   ]
  },
  {
   "cell_type": "code",
   "execution_count": 11,
   "metadata": {},
   "outputs": [],
   "source": [
    "# total_errs = [np.sqrt(rf_err[i] + float(y_test_dd[i])**2) for i in np.arange(len(X_test))]\n",
    "ratio = [round(y_pred[i] / y_test[i],4) for i in np.arange(len(y_pred))]\n",
    "ratio_err = [round(ratio[i]*np.sqrt((rf_err[i] / (y_pred[i])**2) + (float(y_test_dd[i]) / y_test[i])**2),4) for i in np.arange(len(y_pred))]"
   ]
  },
  {
   "cell_type": "code",
   "execution_count": 12,
   "metadata": {},
   "outputs": [],
   "source": [
    "with open(\"data.txt\",\"w\") as f:\n",
    "    f.write('# Basic Learning Model - Validating Test Case - Score: {0} - MSE: {1} \\n'.format(round(score,4),round(mse,4)))\n",
    "    f.write('#Z   A   D0   dD   mlD0   mldD   mlD0/D0   d(mlD0/D0) \\n')\n",
    "    for i in range(0, len(y_pred)):\n",
    "        f.write(\"{0}   {1}   {2}   {3}   {4}   {5}   {6}   {7}\\n\".format(arr_X_test_inc[i,0],arr_X_test_inc[i,1],y_test[i],y_test_dd[i],round(y_pred[i],4),round(np.sqrt(rf_err[i]),4),ratio[i],ratio_err[i]))"
   ]
  },
  {
   "cell_type": "code",
   "execution_count": 13,
   "metadata": {},
   "outputs": [],
   "source": [
    "rf.fit(arr_x,arr_y_pred)\n",
    "test_score = rf.score(arr_x,arr_y_pred)\n",
    "y_pred_test = rf.predict(test_data)\n",
    "rf_err_test = abs(fci.random_forest_error(rf,arr_x,test_data,calibrate=False))"
   ]
  },
  {
   "cell_type": "code",
   "execution_count": 14,
   "metadata": {},
   "outputs": [],
   "source": [
    "d0 = pd.read_csv(\"d0_talys_data.txt\", delim_whitespace=True)\n",
    "d0 = d0[['ldmodel1','ldmodel5','ldmodel6']]\n",
    "d0 = d0.values.reshape(-1,3)\n",
    "\n",
    "ld1ratio = [round(y_pred_test[i] / d0[i,0]*1000,4) for i in np.arange(len(y_pred_test))]\n",
    "ld5ratio = [round(y_pred_test[i] / d0[i,1]*1000,4) for i in np.arange(len(y_pred_test))]\n",
    "ld6ratio = [round(y_pred_test[i] / d0[i,2]*1000,4) for i in np.arange(len(y_pred_test))]"
   ]
  },
  {
   "cell_type": "code",
   "execution_count": 15,
   "metadata": {},
   "outputs": [],
   "source": [
    "with open(\"data_test.txt\",\"w\") as f:\n",
    "    f.write('# Basic Learning Model - Calculating unknown test case - Score:{0} \\n'.format(round(test_score,4)))\n",
    "    f.write('#Z   A   mlD0   mlDd   ldratio1   ldratio5   ldratio6\\n')\n",
    "    for i in range(0, len(y_pred_test)):\n",
    "        f.write(\"{0}   {1}   {2}   {3}   {4}   {5}   {6}\\n\".format(arr_test_data[i,0],arr_test_data_inc[i],round(y_pred_test[i],4),round(np.sqrt(rf_err_test[i]),4),ld1ratio[i],ld5ratio[i],ld6ratio[i]))"
   ]
  },
  {
   "cell_type": "code",
   "execution_count": 19,
   "metadata": {},
   "outputs": [],
   "source": [
    "with open(\"data_inc_d0.txt\",\"w\") as f:\n",
    "#     f.write('# Basic Learning Model - Calculating unknown test case - Score:{0} \\n'.format(round(test_score,4)))\n",
    "#     f.write('#Z   A   mlD0   mlDd   ldratio1   ldratio5   ldratio6\\n')\n",
    "    for i in range(0, len(arr_y_pred)):\n",
    "        f.write(\"{0}      {1}      {2} \\n\".format(arr_a_inc[i],arr_y_pred[i],arr_y_err[i]))"
   ]
  },
  {
   "cell_type": "code",
   "execution_count": null,
   "metadata": {},
   "outputs": [],
   "source": []
  }
 ],
 "metadata": {
  "interpreter": {
   "hash": "2ac76aed366666d06b2dbc895d6cbcaff40415eb429273b629a6c397735c7c04"
  },
  "kernelspec": {
   "display_name": "Python 3 (ipykernel)",
   "language": "python",
   "name": "python3"
  },
  "language_info": {
   "codemirror_mode": {
    "name": "ipython",
    "version": 3
   },
   "file_extension": ".py",
   "mimetype": "text/x-python",
   "name": "python",
   "nbconvert_exporter": "python",
   "pygments_lexer": "ipython3",
   "version": "3.8.8"
  }
 },
 "nbformat": 4,
 "nbformat_minor": 2
}
